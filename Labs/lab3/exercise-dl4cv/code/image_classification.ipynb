{
 "cells": [
  {
   "cell_type": "markdown",
   "metadata": {},
   "source": [
    "# Image Classification with PyTorch"
   ]
  },
  {
   "cell_type": "markdown",
   "metadata": {},
   "source": [
    "## Data loading\n"
   ]
  },
  {
   "cell_type": "code",
   "execution_count": 1,
   "metadata": {},
   "outputs": [
    {
     "name": "stderr",
     "output_type": "stream",
     "text": [
      "/Users/filippoficarra/Documents/GitHub/Computer-Vision/Labs/lab3/exercise-dl4cv/venv/lib/python3.8/site-packages/tqdm/auto.py:21: TqdmWarning: IProgress not found. Please update jupyter and ipywidgets. See https://ipywidgets.readthedocs.io/en/stable/user_install.html\n",
      "  from .autonotebook import tqdm as notebook_tqdm\n"
     ]
    }
   ],
   "source": [
    "import numpy as np\n",
    "import matplotlib.pyplot as plt\n",
    "\n",
    "import torch\n",
    "import torch.nn as nn\n",
    "import torch.nn.functional as F\n",
    "import torch.optim as optim\n",
    "from torch.utils.data import DataLoader\n",
    "import torchvision\n",
    "from torchvision import datasets, transforms"
   ]
  },
  {
   "cell_type": "code",
   "execution_count": 2,
   "metadata": {},
   "outputs": [
    {
     "name": "stderr",
     "output_type": "stream",
     "text": [
      "/Users/filippoficarra/Documents/GitHub/Computer-Vision/Labs/lab3/exercise-dl4cv/venv/lib/python3.8/site-packages/torchvision/datasets/mnist.py:498: UserWarning: The given NumPy array is not writeable, and PyTorch does not support non-writeable tensors. This means you can write to the underlying (supposedly non-writeable) NumPy array using the tensor. You may want to copy the array to protect its data or make it writeable before converting it to a tensor. This type of warning will be suppressed for the rest of this program. (Triggered internally at  ../torch/csrc/utils/tensor_numpy.cpp:180.)\n",
      "  return torch.from_numpy(parsed.astype(m[2], copy=False)).view(*s)\n"
     ]
    }
   ],
   "source": [
    "# torchvision contains convinience functions for popular datasets\n",
    "ds_train = datasets.MNIST('data', train=True, download=True)"
   ]
  },
  {
   "cell_type": "markdown",
   "metadata": {},
   "source": [
    "Each sample is a 28x28 image"
   ]
  },
  {
   "cell_type": "code",
   "execution_count": 3,
   "metadata": {},
   "outputs": [
    {
     "name": "stdout",
     "output_type": "stream",
     "text": [
      "(<PIL.Image.Image image mode=L size=28x28 at 0x7FC5B12C1E50>, 5)\n"
     ]
    },
    {
     "data": {
      "image/jpeg": "[encoded data removed]",
      "image/png": "[encoded data removed]",
      "text/plain": [
       "<PIL.Image.Image image mode=L size=120x120>"
      ]
     },
     "execution_count": 3,
     "metadata": {},
     "output_type": "execute_result"
    }
   ],
   "source": [
    "# if we index this dataset, we get a single data point: a PIL image and an Integer\n",
    "print(ds_train[0])\n",
    "ds_train[0][0].resize((120,120))"
   ]
  },
  {
   "cell_type": "markdown",
   "metadata": {},
   "source": [
    "Let's transform the data to something that our Pytorch models will understand\n",
    "for this purpose, we can supply a transform function to the datase"
   ]
  },
  {
   "cell_type": "code",
   "execution_count": 4,
   "metadata": {},
   "outputs": [],
   "source": [
    "transform = transforms.Compose([\n",
    "    transforms.ToTensor(),\n",
    "])\n",
    "ds_train = datasets.MNIST('data', train=True, download=True, transform=transform)"
   ]
  },
  {
   "cell_type": "markdown",
   "metadata": {},
   "source": [
    "The image is now a `torch.Tensor`"
   ]
  },
  {
   "cell_type": "code",
   "execution_count": 5,
   "metadata": {},
   "outputs": [
    {
     "data": {
      "text/plain": [
       "torch.Tensor"
      ]
     },
     "execution_count": 5,
     "metadata": {},
     "output_type": "execute_result"
    }
   ],
   "source": [
    "type(ds_train[0][0])"
   ]
  },
  {
   "cell_type": "markdown",
   "metadata": {},
   "source": [
    "The normalization is something you learned about in the lecture. Normalizing with $\\mu=0, \\sigma=1$ corresponds to no normalization. Let's compute the proper normalization constants!"
   ]
  },
  {
   "cell_type": "code",
   "execution_count": 6,
   "metadata": {},
   "outputs": [],
   "source": [
    "# lets get only the images \n",
    "ims_train = ds_train.data\n",
    "ims_train = ims_train.float() / 255."
   ]
  },
  {
   "cell_type": "code",
   "execution_count": 7,
   "metadata": {},
   "outputs": [
    {
     "name": "stdout",
     "output_type": "stream",
     "text": [
      "Mu: 0.1307, std: 0.3081\n"
     ]
    }
   ],
   "source": [
    "#########################################################################\n",
    "# TODO: calculate the mean and std of MNIST images\n",
    "# hint: to look for operations on pytorch tensor, refer to the official PyTorch docs \n",
    "# https://pytorch.org/docs/stable/\n",
    "#########################################################################\n",
    "mu = 0.0\n",
    "std = 1.0\n",
    "\n",
    "mu = torch.mean(ims_train, dim=[0,1,2])\n",
    "std = torch.std(ims_train, dim=[0,1,2])\n",
    "\n",
    "print(f\"Mu: {mu:.4f}, std: {std:.4f}\")\n",
    "\n"
   ]
  },
  {
   "cell_type": "markdown",
   "metadata": {},
   "source": [
    "We normalize the data as below."
   ]
  },
  {
   "cell_type": "code",
   "execution_count": 8,
   "metadata": {},
   "outputs": [],
   "source": [
    "transform = transforms.Compose([\n",
    "    transforms.ToTensor(),\n",
    "    transforms.Normalize(mu, std)\n",
    "])\n",
    "ds_train = datasets.MNIST('data', train=True, download=True, transform=transform)\n",
    "ds_test = datasets.MNIST('data', train=False, download=True, transform=transform)"
   ]
  },
  {
   "cell_type": "code",
   "execution_count": 9,
   "metadata": {},
   "outputs": [
    {
     "data": {
      "text/plain": [
       "(tensor(-0.4241), tensor(2.8215))"
      ]
     },
     "execution_count": 9,
     "metadata": {},
     "output_type": "execute_result"
    }
   ],
   "source": [
    "ds_train[0][0].min(), ds_train[0][0].max()"
   ]
  },
  {
   "cell_type": "markdown",
   "metadata": {},
   "source": [
    "Next, we want to receive mini-batches, not only single data points.\n",
    "We use PyTorch's DataLoader class. Build a dataloader with a batch size of 64 and 4 workers (number of subprocess that peform the dataloading). Important: you need to shuffle the training data, not the test data.\n",
    "\n",
    "**NOTE**: if you encounter some unexpected errors in data loading, try setting `NUM_WORKERS = 0`"
   ]
  },
  {
   "cell_type": "code",
   "execution_count": 10,
   "metadata": {},
   "outputs": [],
   "source": [
    "BATCH_SIZE = 64\n",
    "NUM_WORKERS = 4\n",
    "#########################################################################\n",
    "# TODO: Build a dataloader for both train and test data.\n",
    "#########################################################################\n",
    "\n",
    "dl_train = DataLoader(ds_train, batch_size=BATCH_SIZE, shuffle=True, num_workers=NUM_WORKERS)\n",
    "dl_test = DataLoader(ds_test, batch_size=BATCH_SIZE, shuffle=False, num_workers=NUM_WORKERS)"
   ]
  },
  {
   "cell_type": "markdown",
   "metadata": {},
   "source": [
    "## MLP in Pytorch\n",
    "\n",
    "Ok, the dataloading works. Let's build our model, PyTorch makes this very easy. We will build replicate the model from our last exercises. However, now, we add another variable called `nLayer` that indicates how many linear layers that in your network. Please adapt your code from last exercise accordingly to allow different number of layers."
   ]
  },
  {
   "cell_type": "code",
   "execution_count": 11,
   "metadata": {},
   "outputs": [],
   "source": [
    "# These are the parameters to be used\n",
    "nInput = 784\n",
    "nOutput = 10\n",
    "nLayer = 2\n",
    "nHidden = 16\n",
    "act_fn = nn.ReLU()"
   ]
  },
  {
   "cell_type": "code",
   "execution_count": 12,
   "metadata": {},
   "outputs": [],
   "source": [
    "#########################################################################\n",
    "# TODO: Implement the __init__ of the MLP class. \n",
    "# insert the activation after every linear layer. Important: the number of \n",
    "# hidden layers should be variable!\n",
    "#########################################################################\n",
    "\n",
    "class MLP(nn.Module):\n",
    "    def __init__(self, nInput, nOutput, nLayer, nHidden, act_fn):\n",
    "        super(MLP, self).__init__()\n",
    "        layers = [] \n",
    "        \n",
    "        ##### implement this part #####\n",
    "        layers.append(nn.Linear(nInput, nHidden))\n",
    "        layers.append(act_fn)\n",
    "        \n",
    "        for _ in range(nLayer-1):\n",
    "            layers.append(nn.Linear(nHidden, nHidden))\n",
    "            layers.append(nn.ReLU())\n",
    "            \n",
    "        layers.append(nn.Linear(nHidden, nOutput))\n",
    "        \n",
    "        \n",
    "        ###############################\n",
    "        \n",
    "        self.model = nn.Sequential(*layers)\n",
    "\n",
    "    def forward(self, x):\n",
    "        x = torch.flatten(x, 1)\n",
    "        return self.model(x)"
   ]
  },
  {
   "cell_type": "code",
   "execution_count": 13,
   "metadata": {
    "scrolled": true
   },
   "outputs": [
    {
     "data": {
      "text/plain": [
       "torch.Size([1, 10])"
      ]
     },
     "execution_count": 13,
     "metadata": {},
     "output_type": "execute_result"
    }
   ],
   "source": [
    "# Let's test if the forward pass works\n",
    "# this should print torch.Size([1, 10])\n",
    "t = torch.randn(1,1,28,28)\n",
    "mlp = MLP(nInput, nOutput, nLayer, nHidden, act_fn)\n",
    "mlp(t).shape"
   ]
  },
  {
   "cell_type": "code",
   "execution_count": 14,
   "metadata": {},
   "outputs": [
    {
     "data": {
      "text/plain": [
       "MLP(\n",
       "  (model): Sequential(\n",
       "    (0): Linear(in_features=784, out_features=16, bias=True)\n",
       "    (1): ReLU()\n",
       "    (2): Linear(in_features=16, out_features=16, bias=True)\n",
       "    (3): ReLU()\n",
       "    (4): Linear(in_features=16, out_features=10, bias=True)\n",
       "  )\n",
       ")"
      ]
     },
     "execution_count": 14,
     "metadata": {},
     "output_type": "execute_result"
    }
   ],
   "source": [
    "mlp"
   ]
  },
  {
   "cell_type": "markdown",
   "metadata": {},
   "source": [
    "We already implemented the test function for you"
   ]
  },
  {
   "cell_type": "code",
   "execution_count": 15,
   "metadata": {},
   "outputs": [],
   "source": [
    "def test(model, dl_test, device='cpu'):\n",
    "    model.eval()\n",
    "    test_loss = 0\n",
    "    correct = 0\n",
    "    with torch.no_grad():\n",
    "        for data, target in dl_test:\n",
    "            data, target = data.to(device), target.to(device)\n",
    "            output = model(data)\n",
    "            test_loss += F.cross_entropy(output, target, reduction='sum').item()  # sum up batch loss\n",
    "            pred = output.argmax(dim=1, keepdim=True)  # get the index of the max log-probability\n",
    "            correct += pred.eq(target.view_as(pred)).sum().item()\n",
    "\n",
    "    test_loss /= len(dl_test.dataset)\n",
    "\n",
    "    print('\\nTest set: Average loss: {:.4f}, Accuracy: {}/{} ({:.3f}%)\\n'.format(\n",
    "        test_loss, correct, len(dl_test.dataset),\n",
    "        100. * correct / len(dl_test.dataset)))"
   ]
  },
  {
   "cell_type": "markdown",
   "metadata": {},
   "source": [
    "Now you only need to implement the training and you are good to go"
   ]
  },
  {
   "cell_type": "code",
   "execution_count": 16,
   "metadata": {},
   "outputs": [],
   "source": [
    "#########################################################################\n",
    "# TODO: Implement the missing part of the training function. As a loss function we want to use cross entropy\n",
    "# It can be called with F.cross_entropy().\n",
    "# Hint: Pass through the model -> Backpropagate gradients -> Take gradient step\n",
    "#########################################################################\n",
    "\n",
    "def train(model, dl_train, optimizer, epoch, log_interval=100, device='cpu'):\n",
    "    model.train()\n",
    "    correct = 0\n",
    "    for batch_idx, (data, target) in enumerate(dl_train):\n",
    "        data, target = data.to(device), target.to(device)\n",
    "        \n",
    "        # first we need to zero the gradient, otherwise PyTorch would accumulate them\n",
    "        optimizer.zero_grad()         \n",
    "        \n",
    "        ##### implement this part #####\n",
    "        output = model(data)\n",
    "        loss = F.cross_entropy(output, target)\n",
    "        \n",
    "        loss.backward()\n",
    "        optimizer.step()\n",
    "        ###############################\n",
    "\n",
    "        # stats\n",
    "        pred = output.argmax(dim=1, keepdim=True)  # get the index of the max log-probability\n",
    "        correct += pred.eq(target.view_as(pred)).sum().item()\n",
    "\n",
    "        if batch_idx % log_interval == 0:\n",
    "            print('Train Epoch: {} [{}/{} ({:.0f}%)]\\tLoss: {:.6f}'.format(\n",
    "                epoch, batch_idx * len(data), len(dl_train.dataset),\n",
    "                100. * batch_idx / len(dl_train), loss.item()))\n",
    "\n",
    "    print('\\nTrain set: Average loss: {:.4f}, Accuracy: {}/{} ({:.1f}%)\\n'.format(\n",
    "        loss, correct, len(dl_train.dataset),\n",
    "        100. * correct / len(dl_train.dataset)))"
   ]
  },
  {
   "cell_type": "markdown",
   "metadata": {},
   "source": [
    "Ok, the setup is almost done. The onoly missing part is the optimizer. We are going to use Adam."
   ]
  },
  {
   "cell_type": "code",
   "execution_count": 17,
   "metadata": {},
   "outputs": [],
   "source": [
    "# reinitialize the mlp, so we can play with parameters right here\n",
    "mlp = MLP(nInput, nOutput, nLayer, nHidden, act_fn)\n",
    "optimizer = optim.Adam(mlp.parameters())"
   ]
  },
  {
   "cell_type": "code",
   "execution_count": 18,
   "metadata": {
    "scrolled": true
   },
   "outputs": [
    {
     "name": "stdout",
     "output_type": "stream",
     "text": [
      "Train Epoch: 1 [0/60000 (0%)]\tLoss: 2.338444\n",
      "Train Epoch: 1 [6400/60000 (11%)]\tLoss: 1.146366\n",
      "Train Epoch: 1 [12800/60000 (21%)]\tLoss: 0.433069\n",
      "Train Epoch: 1 [19200/60000 (32%)]\tLoss: 0.298311\n",
      "Train Epoch: 1 [25600/60000 (43%)]\tLoss: 0.482983\n",
      "Train Epoch: 1 [32000/60000 (53%)]\tLoss: 0.327483\n",
      "Train Epoch: 1 [38400/60000 (64%)]\tLoss: 0.211454\n",
      "Train Epoch: 1 [44800/60000 (75%)]\tLoss: 0.135872\n",
      "Train Epoch: 1 [51200/60000 (85%)]\tLoss: 0.150335\n",
      "Train Epoch: 1 [57600/60000 (96%)]\tLoss: 0.333856\n",
      "\n",
      "Train set: Average loss: 0.2973, Accuracy: 50928/60000 (84.9%)\n",
      "\n",
      "\n",
      "Test set: Average loss: 0.2780, Accuracy: 9153/10000 (91.530%)\n",
      "\n",
      "Train Epoch: 2 [0/60000 (0%)]\tLoss: 0.424932\n",
      "Train Epoch: 2 [6400/60000 (11%)]\tLoss: 0.376721\n",
      "Train Epoch: 2 [12800/60000 (21%)]\tLoss: 0.204998\n",
      "Train Epoch: 2 [19200/60000 (32%)]\tLoss: 0.407970\n",
      "Train Epoch: 2 [25600/60000 (43%)]\tLoss: 0.240965\n",
      "Train Epoch: 2 [32000/60000 (53%)]\tLoss: 0.190185\n",
      "Train Epoch: 2 [38400/60000 (64%)]\tLoss: 0.186050\n",
      "Train Epoch: 2 [44800/60000 (75%)]\tLoss: 0.294574\n",
      "Train Epoch: 2 [51200/60000 (85%)]\tLoss: 0.304360\n",
      "Train Epoch: 2 [57600/60000 (96%)]\tLoss: 0.215228\n",
      "\n",
      "Train set: Average loss: 0.1551, Accuracy: 55440/60000 (92.4%)\n",
      "\n",
      "\n",
      "Test set: Average loss: 0.2386, Accuracy: 9278/10000 (92.780%)\n",
      "\n",
      "Train Epoch: 3 [0/60000 (0%)]\tLoss: 0.128895\n",
      "Train Epoch: 3 [6400/60000 (11%)]\tLoss: 0.270804\n",
      "Train Epoch: 3 [12800/60000 (21%)]\tLoss: 0.153132\n",
      "Train Epoch: 3 [19200/60000 (32%)]\tLoss: 0.290611\n",
      "Train Epoch: 3 [25600/60000 (43%)]\tLoss: 0.192046\n",
      "Train Epoch: 3 [32000/60000 (53%)]\tLoss: 0.255019\n",
      "Train Epoch: 3 [38400/60000 (64%)]\tLoss: 0.371420\n",
      "Train Epoch: 3 [44800/60000 (75%)]\tLoss: 0.056698\n",
      "Train Epoch: 3 [51200/60000 (85%)]\tLoss: 0.105540\n",
      "Train Epoch: 3 [57600/60000 (96%)]\tLoss: 0.076816\n",
      "\n",
      "Train set: Average loss: 0.1985, Accuracy: 56059/60000 (93.4%)\n",
      "\n",
      "\n",
      "Test set: Average loss: 0.2135, Accuracy: 9350/10000 (93.500%)\n",
      "\n",
      "Train Epoch: 4 [0/60000 (0%)]\tLoss: 0.219431\n",
      "Train Epoch: 4 [6400/60000 (11%)]\tLoss: 0.206907\n",
      "Train Epoch: 4 [12800/60000 (21%)]\tLoss: 0.186972\n",
      "Train Epoch: 4 [19200/60000 (32%)]\tLoss: 0.123166\n",
      "Train Epoch: 4 [25600/60000 (43%)]\tLoss: 0.227464\n",
      "Train Epoch: 4 [32000/60000 (53%)]\tLoss: 0.079299\n",
      "Train Epoch: 4 [38400/60000 (64%)]\tLoss: 0.106885\n",
      "Train Epoch: 4 [44800/60000 (75%)]\tLoss: 0.206218\n",
      "Train Epoch: 4 [51200/60000 (85%)]\tLoss: 0.165778\n",
      "Train Epoch: 4 [57600/60000 (96%)]\tLoss: 0.223089\n",
      "\n",
      "Train set: Average loss: 0.1734, Accuracy: 56389/60000 (94.0%)\n",
      "\n",
      "\n",
      "Test set: Average loss: 0.1983, Accuracy: 9391/10000 (93.910%)\n",
      "\n",
      "Train Epoch: 5 [0/60000 (0%)]\tLoss: 0.080634\n",
      "Train Epoch: 5 [6400/60000 (11%)]\tLoss: 0.155352\n",
      "Train Epoch: 5 [12800/60000 (21%)]\tLoss: 0.158389\n",
      "Train Epoch: 5 [19200/60000 (32%)]\tLoss: 0.098540\n",
      "Train Epoch: 5 [25600/60000 (43%)]\tLoss: 0.191818\n",
      "Train Epoch: 5 [32000/60000 (53%)]\tLoss: 0.200730\n",
      "Train Epoch: 5 [38400/60000 (64%)]\tLoss: 0.443686\n",
      "Train Epoch: 5 [44800/60000 (75%)]\tLoss: 0.180987\n",
      "Train Epoch: 5 [51200/60000 (85%)]\tLoss: 0.188035\n",
      "Train Epoch: 5 [57600/60000 (96%)]\tLoss: 0.145887\n",
      "\n",
      "Train set: Average loss: 0.1532, Accuracy: 56706/60000 (94.5%)\n",
      "\n",
      "\n",
      "Test set: Average loss: 0.1947, Accuracy: 9417/10000 (94.170%)\n",
      "\n",
      "Train Epoch: 6 [0/60000 (0%)]\tLoss: 0.120663\n",
      "Train Epoch: 6 [6400/60000 (11%)]\tLoss: 0.146743\n",
      "Train Epoch: 6 [12800/60000 (21%)]\tLoss: 0.349368\n",
      "Train Epoch: 6 [19200/60000 (32%)]\tLoss: 0.240095\n",
      "Train Epoch: 6 [25600/60000 (43%)]\tLoss: 0.170371\n",
      "Train Epoch: 6 [32000/60000 (53%)]\tLoss: 0.182209\n",
      "Train Epoch: 6 [38400/60000 (64%)]\tLoss: 0.256220\n",
      "Train Epoch: 6 [44800/60000 (75%)]\tLoss: 0.166473\n",
      "Train Epoch: 6 [51200/60000 (85%)]\tLoss: 0.151298\n",
      "Train Epoch: 6 [57600/60000 (96%)]\tLoss: 0.099490\n",
      "\n",
      "Train set: Average loss: 0.3503, Accuracy: 56944/60000 (94.9%)\n",
      "\n",
      "\n",
      "Test set: Average loss: 0.1805, Accuracy: 9451/10000 (94.510%)\n",
      "\n",
      "Train Epoch: 7 [0/60000 (0%)]\tLoss: 0.119720\n",
      "Train Epoch: 7 [6400/60000 (11%)]\tLoss: 0.205103\n",
      "Train Epoch: 7 [12800/60000 (21%)]\tLoss: 0.073764\n",
      "Train Epoch: 7 [19200/60000 (32%)]\tLoss: 0.117494\n",
      "Train Epoch: 7 [25600/60000 (43%)]\tLoss: 0.097003\n",
      "Train Epoch: 7 [32000/60000 (53%)]\tLoss: 0.143567\n",
      "Train Epoch: 7 [38400/60000 (64%)]\tLoss: 0.097398\n",
      "Train Epoch: 7 [44800/60000 (75%)]\tLoss: 0.146866\n",
      "Train Epoch: 7 [51200/60000 (85%)]\tLoss: 0.134272\n",
      "Train Epoch: 7 [57600/60000 (96%)]\tLoss: 0.060700\n",
      "\n",
      "Train set: Average loss: 0.3077, Accuracy: 57130/60000 (95.2%)\n",
      "\n",
      "\n",
      "Test set: Average loss: 0.1887, Accuracy: 9422/10000 (94.220%)\n",
      "\n",
      "Train Epoch: 8 [0/60000 (0%)]\tLoss: 0.185037\n",
      "Train Epoch: 8 [6400/60000 (11%)]\tLoss: 0.154507\n",
      "Train Epoch: 8 [12800/60000 (21%)]\tLoss: 0.214758\n",
      "Train Epoch: 8 [19200/60000 (32%)]\tLoss: 0.284798\n",
      "Train Epoch: 8 [25600/60000 (43%)]\tLoss: 0.098458\n",
      "Train Epoch: 8 [32000/60000 (53%)]\tLoss: 0.071177\n",
      "Train Epoch: 8 [38400/60000 (64%)]\tLoss: 0.319772\n",
      "Train Epoch: 8 [44800/60000 (75%)]\tLoss: 0.134021\n",
      "Train Epoch: 8 [51200/60000 (85%)]\tLoss: 0.066848\n",
      "Train Epoch: 8 [57600/60000 (96%)]\tLoss: 0.098873\n",
      "\n",
      "Train set: Average loss: 0.0616, Accuracy: 57233/60000 (95.4%)\n",
      "\n",
      "\n",
      "Test set: Average loss: 0.1778, Accuracy: 9462/10000 (94.620%)\n",
      "\n",
      "Train Epoch: 9 [0/60000 (0%)]\tLoss: 0.255394\n",
      "Train Epoch: 9 [6400/60000 (11%)]\tLoss: 0.055231\n",
      "Train Epoch: 9 [12800/60000 (21%)]\tLoss: 0.250678\n",
      "Train Epoch: 9 [19200/60000 (32%)]\tLoss: 0.041361\n",
      "Train Epoch: 9 [25600/60000 (43%)]\tLoss: 0.067569\n",
      "Train Epoch: 9 [32000/60000 (53%)]\tLoss: 0.057460\n",
      "Train Epoch: 9 [38400/60000 (64%)]\tLoss: 0.226643\n",
      "Train Epoch: 9 [44800/60000 (75%)]\tLoss: 0.131985\n",
      "Train Epoch: 9 [51200/60000 (85%)]\tLoss: 0.065652\n",
      "Train Epoch: 9 [57600/60000 (96%)]\tLoss: 0.218782\n",
      "\n",
      "Train set: Average loss: 0.0766, Accuracy: 57430/60000 (95.7%)\n",
      "\n",
      "\n",
      "Test set: Average loss: 0.1696, Accuracy: 9486/10000 (94.860%)\n",
      "\n",
      "Train Epoch: 10 [0/60000 (0%)]\tLoss: 0.080790\n",
      "Train Epoch: 10 [6400/60000 (11%)]\tLoss: 0.134453\n",
      "Train Epoch: 10 [12800/60000 (21%)]\tLoss: 0.156321\n",
      "Train Epoch: 10 [19200/60000 (32%)]\tLoss: 0.231515\n",
      "Train Epoch: 10 [25600/60000 (43%)]\tLoss: 0.018966\n",
      "Train Epoch: 10 [32000/60000 (53%)]\tLoss: 0.143795\n",
      "Train Epoch: 10 [38400/60000 (64%)]\tLoss: 0.108690\n",
      "Train Epoch: 10 [44800/60000 (75%)]\tLoss: 0.059565\n",
      "Train Epoch: 10 [51200/60000 (85%)]\tLoss: 0.161626\n",
      "Train Epoch: 10 [57600/60000 (96%)]\tLoss: 0.069306\n",
      "\n",
      "Train set: Average loss: 0.1322, Accuracy: 57453/60000 (95.8%)\n",
      "\n",
      "\n",
      "Test set: Average loss: 0.1659, Accuracy: 9509/10000 (95.090%)\n",
      "\n",
      "Training is finished.\n"
     ]
    }
   ],
   "source": [
    "epochs = 10\n",
    "for epoch in range(1, epochs + 1):\n",
    "    train(mlp, dl_train, optimizer, epoch, log_interval=100)\n",
    "    test(mlp, dl_test)\n",
    "\n",
    "print ('Training is finished.')"
   ]
  },
  {
   "cell_type": "markdown",
   "metadata": {},
   "source": [
    "After training, you should see test accuracies of > **94%** - By they way, here we report test accuracy, the last exercises reported test error. Accuracy is simply (1 - error). Both metrics are commonly reported, there is no clear preference in literature for one or the other."
   ]
  },
  {
   "cell_type": "markdown",
   "metadata": {},
   "source": [
    "Now, can you do some parameter tuning to boost the test accuracy to > **97%**?"
   ]
  },
  {
   "cell_type": "code",
   "execution_count": 19,
   "metadata": {},
   "outputs": [
    {
     "name": "stdout",
     "output_type": "stream",
     "text": [
      "Train Epoch: 1 [0/60000 (0%)]\tLoss: 2.320791\n",
      "Train Epoch: 1 [6400/60000 (11%)]\tLoss: 0.404780\n",
      "Train Epoch: 1 [12800/60000 (21%)]\tLoss: 0.263676\n",
      "Train Epoch: 1 [19200/60000 (32%)]\tLoss: 0.231760\n",
      "Train Epoch: 1 [25600/60000 (43%)]\tLoss: 0.181480\n",
      "Train Epoch: 1 [32000/60000 (53%)]\tLoss: 0.163890\n",
      "Train Epoch: 1 [38400/60000 (64%)]\tLoss: 0.096960\n",
      "Train Epoch: 1 [44800/60000 (75%)]\tLoss: 0.071944\n",
      "Train Epoch: 1 [51200/60000 (85%)]\tLoss: 0.220157\n",
      "Train Epoch: 1 [57600/60000 (96%)]\tLoss: 0.082368\n",
      "\n",
      "Train set: Average loss: 0.0829, Accuracy: 55553/60000 (92.6%)\n",
      "\n",
      "\n",
      "Test set: Average loss: 0.1194, Accuracy: 9624/10000 (96.240%)\n",
      "\n",
      "Train Epoch: 2 [0/60000 (0%)]\tLoss: 0.133516\n",
      "Train Epoch: 2 [6400/60000 (11%)]\tLoss: 0.100395\n",
      "Train Epoch: 2 [12800/60000 (21%)]\tLoss: 0.101489\n",
      "Train Epoch: 2 [19200/60000 (32%)]\tLoss: 0.087627\n",
      "Train Epoch: 2 [25600/60000 (43%)]\tLoss: 0.046751\n",
      "Train Epoch: 2 [32000/60000 (53%)]\tLoss: 0.117695\n",
      "Train Epoch: 2 [38400/60000 (64%)]\tLoss: 0.210334\n",
      "Train Epoch: 2 [44800/60000 (75%)]\tLoss: 0.180544\n",
      "Train Epoch: 2 [51200/60000 (85%)]\tLoss: 0.025357\n",
      "Train Epoch: 2 [57600/60000 (96%)]\tLoss: 0.070524\n",
      "\n",
      "Train set: Average loss: 0.2883, Accuracy: 58041/60000 (96.7%)\n",
      "\n",
      "\n",
      "Test set: Average loss: 0.0977, Accuracy: 9689/10000 (96.890%)\n",
      "\n",
      "Train Epoch: 3 [0/60000 (0%)]\tLoss: 0.194310\n",
      "Train Epoch: 3 [6400/60000 (11%)]\tLoss: 0.108604\n",
      "Train Epoch: 3 [12800/60000 (21%)]\tLoss: 0.038575\n",
      "Train Epoch: 3 [19200/60000 (32%)]\tLoss: 0.076854\n",
      "Train Epoch: 3 [25600/60000 (43%)]\tLoss: 0.013973\n",
      "Train Epoch: 3 [32000/60000 (53%)]\tLoss: 0.028125\n",
      "Train Epoch: 3 [38400/60000 (64%)]\tLoss: 0.036141\n",
      "Train Epoch: 3 [44800/60000 (75%)]\tLoss: 0.036023\n",
      "Train Epoch: 3 [51200/60000 (85%)]\tLoss: 0.047030\n",
      "Train Epoch: 3 [57600/60000 (96%)]\tLoss: 0.064494\n",
      "\n",
      "Train set: Average loss: 0.0014, Accuracy: 58582/60000 (97.6%)\n",
      "\n",
      "\n",
      "Test set: Average loss: 0.0783, Accuracy: 9763/10000 (97.630%)\n",
      "\n",
      "Train Epoch: 4 [0/60000 (0%)]\tLoss: 0.047150\n",
      "Train Epoch: 4 [6400/60000 (11%)]\tLoss: 0.027651\n",
      "Train Epoch: 4 [12800/60000 (21%)]\tLoss: 0.056075\n",
      "Train Epoch: 4 [19200/60000 (32%)]\tLoss: 0.045209\n",
      "Train Epoch: 4 [25600/60000 (43%)]\tLoss: 0.069815\n",
      "Train Epoch: 4 [32000/60000 (53%)]\tLoss: 0.044595\n",
      "Train Epoch: 4 [38400/60000 (64%)]\tLoss: 0.074428\n",
      "Train Epoch: 4 [44800/60000 (75%)]\tLoss: 0.025657\n",
      "Train Epoch: 4 [51200/60000 (85%)]\tLoss: 0.020447\n",
      "Train Epoch: 4 [57600/60000 (96%)]\tLoss: 0.033078\n",
      "\n",
      "Train set: Average loss: 0.0120, Accuracy: 58935/60000 (98.2%)\n",
      "\n",
      "\n",
      "Test set: Average loss: 0.0903, Accuracy: 9721/10000 (97.210%)\n",
      "\n",
      "Train Epoch: 5 [0/60000 (0%)]\tLoss: 0.062391\n",
      "Train Epoch: 5 [6400/60000 (11%)]\tLoss: 0.011087\n",
      "Train Epoch: 5 [12800/60000 (21%)]\tLoss: 0.013276\n",
      "Train Epoch: 5 [19200/60000 (32%)]\tLoss: 0.051644\n",
      "Train Epoch: 5 [25600/60000 (43%)]\tLoss: 0.090141\n",
      "Train Epoch: 5 [32000/60000 (53%)]\tLoss: 0.022853\n",
      "Train Epoch: 5 [38400/60000 (64%)]\tLoss: 0.179515\n",
      "Train Epoch: 5 [44800/60000 (75%)]\tLoss: 0.022876\n",
      "Train Epoch: 5 [51200/60000 (85%)]\tLoss: 0.118058\n",
      "Train Epoch: 5 [57600/60000 (96%)]\tLoss: 0.043549\n",
      "\n",
      "Train set: Average loss: 0.0042, Accuracy: 59089/60000 (98.5%)\n",
      "\n",
      "\n",
      "Test set: Average loss: 0.0883, Accuracy: 9740/10000 (97.400%)\n",
      "\n",
      "Train Epoch: 6 [0/60000 (0%)]\tLoss: 0.012522\n",
      "Train Epoch: 6 [6400/60000 (11%)]\tLoss: 0.002804\n",
      "Train Epoch: 6 [12800/60000 (21%)]\tLoss: 0.012272\n",
      "Train Epoch: 6 [19200/60000 (32%)]\tLoss: 0.015573\n",
      "Train Epoch: 6 [25600/60000 (43%)]\tLoss: 0.012672\n",
      "Train Epoch: 6 [32000/60000 (53%)]\tLoss: 0.042549\n",
      "Train Epoch: 6 [38400/60000 (64%)]\tLoss: 0.041418\n",
      "Train Epoch: 6 [44800/60000 (75%)]\tLoss: 0.038061\n",
      "Train Epoch: 6 [51200/60000 (85%)]\tLoss: 0.030986\n",
      "Train Epoch: 6 [57600/60000 (96%)]\tLoss: 0.009086\n",
      "\n",
      "Train set: Average loss: 0.0023, Accuracy: 59249/60000 (98.7%)\n",
      "\n",
      "\n",
      "Test set: Average loss: 0.0892, Accuracy: 9757/10000 (97.570%)\n",
      "\n",
      "Train Epoch: 7 [0/60000 (0%)]\tLoss: 0.015909\n",
      "Train Epoch: 7 [6400/60000 (11%)]\tLoss: 0.028111\n",
      "Train Epoch: 7 [12800/60000 (21%)]\tLoss: 0.011306\n",
      "Train Epoch: 7 [19200/60000 (32%)]\tLoss: 0.069890\n",
      "Train Epoch: 7 [25600/60000 (43%)]\tLoss: 0.032531\n",
      "Train Epoch: 7 [32000/60000 (53%)]\tLoss: 0.056334\n",
      "Train Epoch: 7 [38400/60000 (64%)]\tLoss: 0.031245\n",
      "Train Epoch: 7 [44800/60000 (75%)]\tLoss: 0.012026\n",
      "Train Epoch: 7 [51200/60000 (85%)]\tLoss: 0.002766\n",
      "Train Epoch: 7 [57600/60000 (96%)]\tLoss: 0.031436\n",
      "\n",
      "Train set: Average loss: 0.0010, Accuracy: 59390/60000 (99.0%)\n",
      "\n",
      "\n",
      "Test set: Average loss: 0.0831, Accuracy: 9767/10000 (97.670%)\n",
      "\n",
      "Train Epoch: 8 [0/60000 (0%)]\tLoss: 0.016260\n",
      "Train Epoch: 8 [6400/60000 (11%)]\tLoss: 0.006929\n",
      "Train Epoch: 8 [12800/60000 (21%)]\tLoss: 0.003797\n",
      "Train Epoch: 8 [19200/60000 (32%)]\tLoss: 0.026502\n",
      "Train Epoch: 8 [25600/60000 (43%)]\tLoss: 0.003306\n",
      "Train Epoch: 8 [32000/60000 (53%)]\tLoss: 0.024188\n",
      "Train Epoch: 8 [38400/60000 (64%)]\tLoss: 0.025354\n",
      "Train Epoch: 8 [44800/60000 (75%)]\tLoss: 0.012665\n",
      "Train Epoch: 8 [51200/60000 (85%)]\tLoss: 0.032702\n",
      "Train Epoch: 8 [57600/60000 (96%)]\tLoss: 0.013208\n",
      "\n",
      "Train set: Average loss: 0.0001, Accuracy: 59446/60000 (99.1%)\n",
      "\n",
      "\n",
      "Test set: Average loss: 0.0897, Accuracy: 9746/10000 (97.460%)\n",
      "\n",
      "Train Epoch: 9 [0/60000 (0%)]\tLoss: 0.002264\n",
      "Train Epoch: 9 [6400/60000 (11%)]\tLoss: 0.053272\n",
      "Train Epoch: 9 [12800/60000 (21%)]\tLoss: 0.023793\n",
      "Train Epoch: 9 [19200/60000 (32%)]\tLoss: 0.036236\n",
      "Train Epoch: 9 [25600/60000 (43%)]\tLoss: 0.001986\n",
      "Train Epoch: 9 [32000/60000 (53%)]\tLoss: 0.001518\n",
      "Train Epoch: 9 [38400/60000 (64%)]\tLoss: 0.012193\n",
      "Train Epoch: 9 [44800/60000 (75%)]\tLoss: 0.018501\n",
      "Train Epoch: 9 [51200/60000 (85%)]\tLoss: 0.008604\n",
      "Train Epoch: 9 [57600/60000 (96%)]\tLoss: 0.002300\n",
      "\n",
      "Train set: Average loss: 0.0060, Accuracy: 59483/60000 (99.1%)\n",
      "\n",
      "\n",
      "Test set: Average loss: 0.0967, Accuracy: 9744/10000 (97.440%)\n",
      "\n",
      "Train Epoch: 10 [0/60000 (0%)]\tLoss: 0.013592\n",
      "Train Epoch: 10 [6400/60000 (11%)]\tLoss: 0.005529\n",
      "Train Epoch: 10 [12800/60000 (21%)]\tLoss: 0.000238\n",
      "Train Epoch: 10 [19200/60000 (32%)]\tLoss: 0.021705\n",
      "Train Epoch: 10 [25600/60000 (43%)]\tLoss: 0.007111\n",
      "Train Epoch: 10 [32000/60000 (53%)]\tLoss: 0.008906\n",
      "Train Epoch: 10 [38400/60000 (64%)]\tLoss: 0.009052\n",
      "Train Epoch: 10 [44800/60000 (75%)]\tLoss: 0.001614\n",
      "Train Epoch: 10 [51200/60000 (85%)]\tLoss: 0.029444\n",
      "Train Epoch: 10 [57600/60000 (96%)]\tLoss: 0.046953\n",
      "\n",
      "Train set: Average loss: 0.0033, Accuracy: 59508/60000 (99.2%)\n",
      "\n",
      "\n",
      "Test set: Average loss: 0.0990, Accuracy: 9733/10000 (97.330%)\n",
      "\n",
      "Training is finished.\n"
     ]
    }
   ],
   "source": [
    "#########################################################################\n",
    "#TODO: modify the parameters below to see which setting that you can get to 97%\n",
    "#########################################################################\n",
    "nLayer = 2\n",
    "nHidden = 128 # increasing the hidden size resulted in better performance\n",
    "act_fn = nn.ReLU()\n",
    "\n",
    "# reinitialize the mlp, so we can play with parameters right here\n",
    "mlp = MLP(nInput, nOutput, nLayer, nHidden, act_fn)\n",
    "optimizer = optim.Adam(mlp.parameters())\n",
    "\n",
    "epochs = 10\n",
    "for epoch in range(1, epochs + 1):\n",
    "    train(mlp, dl_train, optimizer, epoch, log_interval=100)\n",
    "    test(mlp, dl_test)\n",
    "\n",
    "print ('Training is finished.')"
   ]
  },
  {
   "cell_type": "markdown",
   "metadata": {},
   "source": [
    "Before you move on to the next exercise, you can further play with the other parameters (learning rate, epochs, a different optimizer, etc.) to get a feeling what can improve or hamper performance. "
   ]
  },
  {
   "cell_type": "markdown",
   "metadata": {},
   "source": [
    "## CNN\n",
    "Alright, we matched our prior performance. Let's surpass it! You will soon see the power of CNN by building a small one yourself. The structure should be as follows\n",
    "\n",
    "| CNN Architecture                             \t|\n",
    "|----------------------------------------------\t|\n",
    "| Conv: $C_{in}=1, C_{out}=32, K=3, S=1, P=0$  \t|\n",
    "| ReLU                                         \t|\n",
    "| Conv: $C_{in}=32, C_{out}=64, K=3, S=1, P=0$ \t|\n",
    "| ReLU                                         \t|\n",
    "| MaxPool2d: $K=2, S=2, P=0$                   \t|\n",
    "| Dropout: $p=0.25$                            \t|\n",
    "| Linear: $C_{in}=9216, C_{out}=128$           \t|\n",
    "| ReLU                                         \t|\n",
    "| Dropout: $p=0.5$                             \t|\n",
    "| Linear: $C_{in}=128, C_{out}=10$             \t|\n",
    "\n",
    "The layers you will need are: \n",
    "\n",
    "`nn.Conv2d,  nn.Linear,  nn.Dropout, nn.MaxPool2d, nn.Flatten`\n",
    "\n",
    "For layers without parameters you can alternatively use function in the forward pass:  \n",
    "\n",
    "`F.max_pool2d, torch.flatten`"
   ]
  },
  {
   "cell_type": "code",
   "execution_count": 20,
   "metadata": {},
   "outputs": [],
   "source": [
    "#########################################################################\n",
    "# TODO: Implement the __init__ and forward method of the CNN class. \n",
    "# Hint: do not forget to flatten the appropriate dimension after the convolutional blocks. \n",
    "# A linear layers expect input of the size (B, H) with batch size B and feature size H\n",
    "#########################################################################\n",
    "\n",
    "class CNN(nn.Module):\n",
    "    def __init__(self):\n",
    "        super(CNN, self).__init__()\n",
    "                \n",
    "        self.model = nn.Sequential(nn.Conv2d(in_channels=1,out_channels=32,kernel_size=3,stride=1,padding=0),\n",
    "                                    nn.ReLU(),\n",
    "                                    nn.Conv2d(in_channels=32,out_channels=64,kernel_size=3,stride=1,padding=0),\n",
    "                                    nn.ReLU(),\n",
    "                                    nn.MaxPool2d(kernel_size=2,stride=2,padding=0),\n",
    "                                    nn.Flatten(),\n",
    "                                    nn.Dropout(p=0.25),\n",
    "                                    nn.Linear(in_features=9216, out_features=128),\n",
    "                                    nn.ReLU(),\n",
    "                                    nn.Dropout(p=0.5),\n",
    "                                    nn.Linear(in_features=128, out_features=10))\n",
    "        \n",
    "\n",
    "    def forward(self, x):\n",
    "        return self.model(x)\n"
   ]
  },
  {
   "cell_type": "code",
   "execution_count": 21,
   "metadata": {},
   "outputs": [
    {
     "name": "stderr",
     "output_type": "stream",
     "text": [
      "[W NNPACK.cpp:79] Could not initialize NNPACK! Reason: Unsupported hardware.\n",
      "/Users/filippoficarra/Documents/GitHub/Computer-Vision/Labs/lab3/exercise-dl4cv/venv/lib/python3.8/site-packages/torch/nn/functional.py:718: UserWarning: Named tensors and all their associated APIs are an experimental feature and subject to change. Please do not use them for anything important until they are released as stable. (Triggered internally at  ../c10/core/TensorImpl.h:1156.)\n",
      "  return torch.max_pool2d(input, kernel_size, stride, padding, dilation, ceil_mode)\n"
     ]
    },
    {
     "data": {
      "text/plain": [
       "torch.Size([1, 10])"
      ]
     },
     "execution_count": 21,
     "metadata": {},
     "output_type": "execute_result"
    }
   ],
   "source": [
    "# Let's test if the forward pass works\n",
    "# this should print torch.Size([1, 10])\n",
    "t = torch.randn(1,1,28,28)\n",
    "cnn = CNN()\n",
    "cnn(t).shape"
   ]
  },
  {
   "cell_type": "markdown",
   "metadata": {},
   "source": [
    "Alright, let's train!"
   ]
  },
  {
   "cell_type": "code",
   "execution_count": 22,
   "metadata": {},
   "outputs": [],
   "source": [
    "optimizer = optim.Adam(cnn.parameters())"
   ]
  },
  {
   "cell_type": "code",
   "execution_count": 23,
   "metadata": {
    "scrolled": true
   },
   "outputs": [
    {
     "name": "stdout",
     "output_type": "stream",
     "text": [
      "Train Epoch: 1 [0/60000 (0%)]\tLoss: 2.306068\n",
      "Train Epoch: 1 [6400/60000 (11%)]\tLoss: 0.348563\n",
      "Train Epoch: 1 [12800/60000 (21%)]\tLoss: 0.183753\n",
      "Train Epoch: 1 [19200/60000 (32%)]\tLoss: 0.110238\n",
      "Train Epoch: 1 [25600/60000 (43%)]\tLoss: 0.142471\n",
      "Train Epoch: 1 [32000/60000 (53%)]\tLoss: 0.141681\n",
      "Train Epoch: 1 [38400/60000 (64%)]\tLoss: 0.128185\n",
      "Train Epoch: 1 [44800/60000 (75%)]\tLoss: 0.116999\n",
      "Train Epoch: 1 [51200/60000 (85%)]\tLoss: 0.014924\n",
      "Train Epoch: 1 [57600/60000 (96%)]\tLoss: 0.128539\n",
      "\n",
      "Train set: Average loss: 0.0432, Accuracy: 56553/60000 (94.3%)\n",
      "\n",
      "\n",
      "Test set: Average loss: 0.0483, Accuracy: 9847/10000 (98.470%)\n",
      "\n",
      "Train Epoch: 2 [0/60000 (0%)]\tLoss: 0.129248\n",
      "Train Epoch: 2 [6400/60000 (11%)]\tLoss: 0.047163\n",
      "Train Epoch: 2 [12800/60000 (21%)]\tLoss: 0.084835\n",
      "Train Epoch: 2 [19200/60000 (32%)]\tLoss: 0.164409\n",
      "Train Epoch: 2 [25600/60000 (43%)]\tLoss: 0.216532\n",
      "Train Epoch: 2 [32000/60000 (53%)]\tLoss: 0.139750\n",
      "Train Epoch: 2 [38400/60000 (64%)]\tLoss: 0.008503\n",
      "Train Epoch: 2 [44800/60000 (75%)]\tLoss: 0.045810\n",
      "Train Epoch: 2 [51200/60000 (85%)]\tLoss: 0.027109\n",
      "Train Epoch: 2 [57600/60000 (96%)]\tLoss: 0.106493\n",
      "\n",
      "Train set: Average loss: 0.0044, Accuracy: 58597/60000 (97.7%)\n",
      "\n",
      "\n",
      "Test set: Average loss: 0.0360, Accuracy: 9881/10000 (98.810%)\n",
      "\n",
      "Train Epoch: 3 [0/60000 (0%)]\tLoss: 0.023104\n",
      "Train Epoch: 3 [6400/60000 (11%)]\tLoss: 0.058349\n",
      "Train Epoch: 3 [12800/60000 (21%)]\tLoss: 0.070942\n",
      "Train Epoch: 3 [19200/60000 (32%)]\tLoss: 0.032999\n",
      "Train Epoch: 3 [25600/60000 (43%)]\tLoss: 0.195378\n",
      "Train Epoch: 3 [32000/60000 (53%)]\tLoss: 0.132749\n",
      "Train Epoch: 3 [38400/60000 (64%)]\tLoss: 0.008292\n",
      "Train Epoch: 3 [44800/60000 (75%)]\tLoss: 0.049349\n",
      "Train Epoch: 3 [51200/60000 (85%)]\tLoss: 0.018718\n",
      "Train Epoch: 3 [57600/60000 (96%)]\tLoss: 0.113930\n",
      "\n",
      "Train set: Average loss: 0.0378, Accuracy: 58880/60000 (98.1%)\n",
      "\n",
      "\n",
      "Test set: Average loss: 0.0294, Accuracy: 9901/10000 (99.010%)\n",
      "\n",
      "Train Epoch: 4 [0/60000 (0%)]\tLoss: 0.011470\n",
      "Train Epoch: 4 [6400/60000 (11%)]\tLoss: 0.053541\n",
      "Train Epoch: 4 [12800/60000 (21%)]\tLoss: 0.171162\n",
      "Train Epoch: 4 [19200/60000 (32%)]\tLoss: 0.077686\n",
      "Train Epoch: 4 [25600/60000 (43%)]\tLoss: 0.022757\n",
      "Train Epoch: 4 [32000/60000 (53%)]\tLoss: 0.225691\n",
      "Train Epoch: 4 [38400/60000 (64%)]\tLoss: 0.010878\n",
      "Train Epoch: 4 [44800/60000 (75%)]\tLoss: 0.014495\n",
      "Train Epoch: 4 [51200/60000 (85%)]\tLoss: 0.092041\n",
      "Train Epoch: 4 [57600/60000 (96%)]\tLoss: 0.072956\n",
      "\n",
      "Train set: Average loss: 0.0054, Accuracy: 59105/60000 (98.5%)\n",
      "\n",
      "\n",
      "Test set: Average loss: 0.0307, Accuracy: 9901/10000 (99.010%)\n",
      "\n",
      "Train Epoch: 5 [0/60000 (0%)]\tLoss: 0.018348\n",
      "Train Epoch: 5 [6400/60000 (11%)]\tLoss: 0.018943\n",
      "Train Epoch: 5 [12800/60000 (21%)]\tLoss: 0.047340\n",
      "Train Epoch: 5 [19200/60000 (32%)]\tLoss: 0.002372\n",
      "Train Epoch: 5 [25600/60000 (43%)]\tLoss: 0.027976\n",
      "Train Epoch: 5 [32000/60000 (53%)]\tLoss: 0.041762\n",
      "Train Epoch: 5 [38400/60000 (64%)]\tLoss: 0.029451\n",
      "Train Epoch: 5 [44800/60000 (75%)]\tLoss: 0.124375\n",
      "Train Epoch: 5 [51200/60000 (85%)]\tLoss: 0.002601\n",
      "Train Epoch: 5 [57600/60000 (96%)]\tLoss: 0.024623\n",
      "\n",
      "Train set: Average loss: 0.0031, Accuracy: 59205/60000 (98.7%)\n",
      "\n",
      "\n",
      "Test set: Average loss: 0.0313, Accuracy: 9902/10000 (99.020%)\n",
      "\n"
     ]
    }
   ],
   "source": [
    "epochs = 5\n",
    "for epoch in range(1, epochs + 1):\n",
    "    train(cnn, dl_train, optimizer, epoch, log_interval=100)\n",
    "    test(cnn, dl_test)"
   ]
  },
  {
   "cell_type": "markdown",
   "metadata": {},
   "source": [
    "This will probably take a bit longer to train, as a convolutional network is not very efficient on a CPU. The current settings should get you around **99%** accuracy. Nice! \n",
    "Again, you should try different hyperparameters and see how far you can push the performance."
   ]
  },
  {
   "cell_type": "markdown",
   "metadata": {},
   "source": [
    "### Inline Question\n",
    "\n",
    "If your model weight is randomly initalized, and no training is done as above. What accuracy do you think the model will get for a 10-class classification task in theory?\n",
    "\n",
    "**Your answer**:  the model should perform randomly, so the accuracy expected is around 10 %\n"
   ]
  },
  {
   "cell_type": "markdown",
   "metadata": {},
   "source": [
    "## Training on CIFAR10\n",
    "\n",
    "Now we are going to move to something more challenging - CIFAR10. We can reuse most of the code above. Thankfully, CIFAR is also a popular dataset, so we can again make use of a PyTorch convience function."
   ]
  },
  {
   "cell_type": "code",
   "execution_count": 24,
   "metadata": {},
   "outputs": [],
   "source": [
    "# This line is used to solve a problem in downloading CIFAR10\n",
    "import ssl\n",
    "ssl._create_default_https_context = ssl._create_unverified_context"
   ]
  },
  {
   "cell_type": "code",
   "execution_count": 25,
   "metadata": {},
   "outputs": [
    {
     "name": "stdout",
     "output_type": "stream",
     "text": [
      "Files already downloaded and verified\n"
     ]
    }
   ],
   "source": [
    "ds_train = datasets.CIFAR10(root='./data', train=True, download=True)"
   ]
  },
  {
   "cell_type": "markdown",
   "metadata": {},
   "source": [
    "This dataset is not normalized yet, so we need to calculate the normalization constants."
   ]
  },
  {
   "cell_type": "code",
   "execution_count": 26,
   "metadata": {},
   "outputs": [],
   "source": [
    "ims_train = torch.tensor(ds_train.data)\n",
    "ims_train = ims_train.float() / 255."
   ]
  },
  {
   "cell_type": "code",
   "execution_count": 27,
   "metadata": {},
   "outputs": [
    {
     "data": {
      "text/plain": [
       "tensor([0.2470, 0.2435, 0.2616])"
      ]
     },
     "execution_count": 27,
     "metadata": {},
     "output_type": "execute_result"
    }
   ],
   "source": [
    "ims_train.std((0,1,2))"
   ]
  },
  {
   "cell_type": "code",
   "execution_count": 28,
   "metadata": {},
   "outputs": [
    {
     "name": "stdout",
     "output_type": "stream",
     "text": [
      "torch.Size([50000, 32, 32, 3])\n"
     ]
    }
   ],
   "source": [
    "print(ims_train.shape)"
   ]
  },
  {
   "cell_type": "code",
   "execution_count": 29,
   "metadata": {},
   "outputs": [],
   "source": [
    "#########################################################################\n",
    "# TODO: calculate the mean and std of CIFAR\n",
    "# hint: We want the mean and std of the channel dimension, these should\n",
    "# be 3 dimensional\n",
    "#########################################################################\n",
    "mu = 0.0\n",
    "std = 1.0\n",
    "\n",
    "mu = ims_train.mean([0, 1, 2])\n",
    "std = ims_train.std([0, 1, 2])\n"
   ]
  },
  {
   "cell_type": "code",
   "execution_count": 30,
   "metadata": {},
   "outputs": [
    {
     "data": {
      "text/plain": [
       "tensor([0.4914, 0.4822, 0.4465])"
      ]
     },
     "execution_count": 30,
     "metadata": {},
     "output_type": "execute_result"
    }
   ],
   "source": [
    "torch.mean(ims_train, dim=(0,1,2))"
   ]
  },
  {
   "cell_type": "markdown",
   "metadata": {},
   "source": [
    "For CIFAR we want to make use of data augmentation to improve generalization. You will find all data augmentations data are included in torchvision here:\n",
    "\n",
    "https://pytorch.org/docs/stable/torchvision/transforms.html"
   ]
  },
  {
   "cell_type": "code",
   "execution_count": 31,
   "metadata": {},
   "outputs": [
    {
     "name": "stdout",
     "output_type": "stream",
     "text": [
      "Files already downloaded and verified\n",
      "Files already downloaded and verified\n"
     ]
    }
   ],
   "source": [
    "BATCH_SIZE = 128\n",
    "NUM_WORKERS = 4 # if you encounter some unexpected errors in data loading, try setting `NUM_WORKERS = 0`\n",
    "#########################################################################\n",
    "# TODO: Implement the proper transforms for the training and test dataloaders. \n",
    "# Then build train and test dataloaders with batch size 128 and 4 workers\n",
    "#\n",
    "# Train: \n",
    "# - Apply a random crop with size 32 on a padded version of the image with P=4\n",
    "# - Flip the image horizontally with a probability of 40 %\n",
    "# - Transform to a Tensor\n",
    "# - Normalize with the constants calculated above\n",
    "# Test: \n",
    "# - Transform to a Tensor\n",
    "# - Normalize with the constants calculated above\n",
    "#########################################################################\n",
    "transform_train = transforms.Compose([\n",
    "                    transforms.RandomCrop(size=32, padding=4),\n",
    "                    transforms.RandomHorizontalFlip(p=0.4),\n",
    "                    transforms.ToTensor(),\n",
    "                    transforms.Normalize(mu, std)])\n",
    "transform_test = transforms.Compose([\n",
    "                    transforms.ToTensor(),\n",
    "                    transforms.Normalize(mu, std)])\n",
    "\n",
    "ds_train = datasets.CIFAR10('./data', train=True, download=True, transform=transform_train)\n",
    "ds_test = datasets.CIFAR10('./data', train=False, download=True, transform=transform_test)\n",
    "\n",
    "dl_train = DataLoader(ds_train, batch_size=BATCH_SIZE, shuffle=True, num_workers=NUM_WORKERS)\n",
    "dl_test = DataLoader(ds_test, batch_size=BATCH_SIZE, shuffle=False, num_workers=NUM_WORKERS)"
   ]
  },
  {
   "cell_type": "markdown",
   "metadata": {},
   "source": [
    "Setting up the  optimizer, this time we use SGD. The scheduler adapts the learning rate during traing (you can ignore it)"
   ]
  },
  {
   "cell_type": "code",
   "execution_count": 32,
   "metadata": {},
   "outputs": [],
   "source": [
    "cnn = CNN()\n",
    "optimizer = optim.SGD(cnn.parameters(), lr=0.1, momentum=0.9, weight_decay=5e-4)\n",
    "scheduler = torch.optim.lr_scheduler.CosineAnnealingLR(optimizer, T_max=200)"
   ]
  },
  {
   "cell_type": "code",
   "execution_count": 33,
   "metadata": {
    "scrolled": true
   },
   "outputs": [
    {
     "ename": "RuntimeError",
     "evalue": "Given groups=1, weight of size [32, 1, 3, 3], expected input[128, 3, 32, 32] to have 1 channels, but got 3 channels instead",
     "output_type": "error",
     "traceback": [
      "\u001b[0;31m---------------------------------------------------------------------------\u001b[0m",
      "\u001b[0;31mRuntimeError\u001b[0m                              Traceback (most recent call last)",
      "\u001b[1;32m/Users/filippoficarra/Documents/GitHub/Computer-Vision/Labs/lab3/exercise-dl4cv/code/image_classification.ipynb Cell 56\u001b[0m line \u001b[0;36m3\n\u001b[1;32m      <a href='vscode-notebook-cell:/Users/filippoficarra/Documents/GitHub/Computer-Vision/Labs/lab3/exercise-dl4cv/code/image_classification.ipynb#Y104sZmlsZQ%3D%3D?line=0'>1</a>\u001b[0m epochs \u001b[39m=\u001b[39m \u001b[39m5\u001b[39m\n\u001b[1;32m      <a href='vscode-notebook-cell:/Users/filippoficarra/Documents/GitHub/Computer-Vision/Labs/lab3/exercise-dl4cv/code/image_classification.ipynb#Y104sZmlsZQ%3D%3D?line=1'>2</a>\u001b[0m \u001b[39mfor\u001b[39;00m epoch \u001b[39min\u001b[39;00m \u001b[39mrange\u001b[39m(\u001b[39m1\u001b[39m, epochs \u001b[39m+\u001b[39m \u001b[39m1\u001b[39m):\n\u001b[0;32m----> <a href='vscode-notebook-cell:/Users/filippoficarra/Documents/GitHub/Computer-Vision/Labs/lab3/exercise-dl4cv/code/image_classification.ipynb#Y104sZmlsZQ%3D%3D?line=2'>3</a>\u001b[0m     train(cnn, dl_train, optimizer, epoch, log_interval\u001b[39m=\u001b[39;49m\u001b[39m100\u001b[39;49m)\n\u001b[1;32m      <a href='vscode-notebook-cell:/Users/filippoficarra/Documents/GitHub/Computer-Vision/Labs/lab3/exercise-dl4cv/code/image_classification.ipynb#Y104sZmlsZQ%3D%3D?line=3'>4</a>\u001b[0m     test(cnn, dl_test)    \n\u001b[1;32m      <a href='vscode-notebook-cell:/Users/filippoficarra/Documents/GitHub/Computer-Vision/Labs/lab3/exercise-dl4cv/code/image_classification.ipynb#Y104sZmlsZQ%3D%3D?line=4'>5</a>\u001b[0m     scheduler\u001b[39m.\u001b[39mstep()\n",
      "\u001b[1;32m/Users/filippoficarra/Documents/GitHub/Computer-Vision/Labs/lab3/exercise-dl4cv/code/image_classification.ipynb Cell 56\u001b[0m line \u001b[0;36m1\n\u001b[1;32m     <a href='vscode-notebook-cell:/Users/filippoficarra/Documents/GitHub/Computer-Vision/Labs/lab3/exercise-dl4cv/code/image_classification.ipynb#Y104sZmlsZQ%3D%3D?line=13'>14</a>\u001b[0m optimizer\u001b[39m.\u001b[39mzero_grad()         \n\u001b[1;32m     <a href='vscode-notebook-cell:/Users/filippoficarra/Documents/GitHub/Computer-Vision/Labs/lab3/exercise-dl4cv/code/image_classification.ipynb#Y104sZmlsZQ%3D%3D?line=15'>16</a>\u001b[0m \u001b[39m##### implement this part #####\u001b[39;00m\n\u001b[0;32m---> <a href='vscode-notebook-cell:/Users/filippoficarra/Documents/GitHub/Computer-Vision/Labs/lab3/exercise-dl4cv/code/image_classification.ipynb#Y104sZmlsZQ%3D%3D?line=16'>17</a>\u001b[0m output \u001b[39m=\u001b[39m model(data)\n\u001b[1;32m     <a href='vscode-notebook-cell:/Users/filippoficarra/Documents/GitHub/Computer-Vision/Labs/lab3/exercise-dl4cv/code/image_classification.ipynb#Y104sZmlsZQ%3D%3D?line=17'>18</a>\u001b[0m loss \u001b[39m=\u001b[39m F\u001b[39m.\u001b[39mcross_entropy(output, target)\n\u001b[1;32m     <a href='vscode-notebook-cell:/Users/filippoficarra/Documents/GitHub/Computer-Vision/Labs/lab3/exercise-dl4cv/code/image_classification.ipynb#Y104sZmlsZQ%3D%3D?line=19'>20</a>\u001b[0m loss\u001b[39m.\u001b[39mbackward()\n",
      "File \u001b[0;32m~/Documents/GitHub/Computer-Vision/Labs/lab3/exercise-dl4cv/venv/lib/python3.8/site-packages/torch/nn/modules/module.py:1051\u001b[0m, in \u001b[0;36mModule._call_impl\u001b[0;34m(self, *input, **kwargs)\u001b[0m\n\u001b[1;32m   1047\u001b[0m \u001b[39m# If we don't have any hooks, we want to skip the rest of the logic in\u001b[39;00m\n\u001b[1;32m   1048\u001b[0m \u001b[39m# this function, and just call forward.\u001b[39;00m\n\u001b[1;32m   1049\u001b[0m \u001b[39mif\u001b[39;00m \u001b[39mnot\u001b[39;00m (\u001b[39mself\u001b[39m\u001b[39m.\u001b[39m_backward_hooks \u001b[39mor\u001b[39;00m \u001b[39mself\u001b[39m\u001b[39m.\u001b[39m_forward_hooks \u001b[39mor\u001b[39;00m \u001b[39mself\u001b[39m\u001b[39m.\u001b[39m_forward_pre_hooks \u001b[39mor\u001b[39;00m _global_backward_hooks\n\u001b[1;32m   1050\u001b[0m         \u001b[39mor\u001b[39;00m _global_forward_hooks \u001b[39mor\u001b[39;00m _global_forward_pre_hooks):\n\u001b[0;32m-> 1051\u001b[0m     \u001b[39mreturn\u001b[39;00m forward_call(\u001b[39m*\u001b[39;49m\u001b[39minput\u001b[39;49m, \u001b[39m*\u001b[39;49m\u001b[39m*\u001b[39;49mkwargs)\n\u001b[1;32m   1052\u001b[0m \u001b[39m# Do not call functions when jit is used\u001b[39;00m\n\u001b[1;32m   1053\u001b[0m full_backward_hooks, non_full_backward_hooks \u001b[39m=\u001b[39m [], []\n",
      "\u001b[1;32m/Users/filippoficarra/Documents/GitHub/Computer-Vision/Labs/lab3/exercise-dl4cv/code/image_classification.ipynb Cell 56\u001b[0m line \u001b[0;36m2\n\u001b[1;32m     <a href='vscode-notebook-cell:/Users/filippoficarra/Documents/GitHub/Computer-Vision/Labs/lab3/exercise-dl4cv/code/image_classification.ipynb#Y104sZmlsZQ%3D%3D?line=23'>24</a>\u001b[0m \u001b[39mdef\u001b[39;00m \u001b[39mforward\u001b[39m(\u001b[39mself\u001b[39m, x):\n\u001b[0;32m---> <a href='vscode-notebook-cell:/Users/filippoficarra/Documents/GitHub/Computer-Vision/Labs/lab3/exercise-dl4cv/code/image_classification.ipynb#Y104sZmlsZQ%3D%3D?line=24'>25</a>\u001b[0m     \u001b[39mreturn\u001b[39;00m \u001b[39mself\u001b[39;49m\u001b[39m.\u001b[39;49mmodel(x)\n",
      "File \u001b[0;32m~/Documents/GitHub/Computer-Vision/Labs/lab3/exercise-dl4cv/venv/lib/python3.8/site-packages/torch/nn/modules/module.py:1051\u001b[0m, in \u001b[0;36mModule._call_impl\u001b[0;34m(self, *input, **kwargs)\u001b[0m\n\u001b[1;32m   1047\u001b[0m \u001b[39m# If we don't have any hooks, we want to skip the rest of the logic in\u001b[39;00m\n\u001b[1;32m   1048\u001b[0m \u001b[39m# this function, and just call forward.\u001b[39;00m\n\u001b[1;32m   1049\u001b[0m \u001b[39mif\u001b[39;00m \u001b[39mnot\u001b[39;00m (\u001b[39mself\u001b[39m\u001b[39m.\u001b[39m_backward_hooks \u001b[39mor\u001b[39;00m \u001b[39mself\u001b[39m\u001b[39m.\u001b[39m_forward_hooks \u001b[39mor\u001b[39;00m \u001b[39mself\u001b[39m\u001b[39m.\u001b[39m_forward_pre_hooks \u001b[39mor\u001b[39;00m _global_backward_hooks\n\u001b[1;32m   1050\u001b[0m         \u001b[39mor\u001b[39;00m _global_forward_hooks \u001b[39mor\u001b[39;00m _global_forward_pre_hooks):\n\u001b[0;32m-> 1051\u001b[0m     \u001b[39mreturn\u001b[39;00m forward_call(\u001b[39m*\u001b[39;49m\u001b[39minput\u001b[39;49m, \u001b[39m*\u001b[39;49m\u001b[39m*\u001b[39;49mkwargs)\n\u001b[1;32m   1052\u001b[0m \u001b[39m# Do not call functions when jit is used\u001b[39;00m\n\u001b[1;32m   1053\u001b[0m full_backward_hooks, non_full_backward_hooks \u001b[39m=\u001b[39m [], []\n",
      "File \u001b[0;32m~/Documents/GitHub/Computer-Vision/Labs/lab3/exercise-dl4cv/venv/lib/python3.8/site-packages/torch/nn/modules/container.py:139\u001b[0m, in \u001b[0;36mSequential.forward\u001b[0;34m(self, input)\u001b[0m\n\u001b[1;32m    137\u001b[0m \u001b[39mdef\u001b[39;00m \u001b[39mforward\u001b[39m(\u001b[39mself\u001b[39m, \u001b[39minput\u001b[39m):\n\u001b[1;32m    138\u001b[0m     \u001b[39mfor\u001b[39;00m module \u001b[39min\u001b[39;00m \u001b[39mself\u001b[39m:\n\u001b[0;32m--> 139\u001b[0m         \u001b[39minput\u001b[39m \u001b[39m=\u001b[39m module(\u001b[39minput\u001b[39;49m)\n\u001b[1;32m    140\u001b[0m     \u001b[39mreturn\u001b[39;00m \u001b[39minput\u001b[39m\n",
      "File \u001b[0;32m~/Documents/GitHub/Computer-Vision/Labs/lab3/exercise-dl4cv/venv/lib/python3.8/site-packages/torch/nn/modules/module.py:1051\u001b[0m, in \u001b[0;36mModule._call_impl\u001b[0;34m(self, *input, **kwargs)\u001b[0m\n\u001b[1;32m   1047\u001b[0m \u001b[39m# If we don't have any hooks, we want to skip the rest of the logic in\u001b[39;00m\n\u001b[1;32m   1048\u001b[0m \u001b[39m# this function, and just call forward.\u001b[39;00m\n\u001b[1;32m   1049\u001b[0m \u001b[39mif\u001b[39;00m \u001b[39mnot\u001b[39;00m (\u001b[39mself\u001b[39m\u001b[39m.\u001b[39m_backward_hooks \u001b[39mor\u001b[39;00m \u001b[39mself\u001b[39m\u001b[39m.\u001b[39m_forward_hooks \u001b[39mor\u001b[39;00m \u001b[39mself\u001b[39m\u001b[39m.\u001b[39m_forward_pre_hooks \u001b[39mor\u001b[39;00m _global_backward_hooks\n\u001b[1;32m   1050\u001b[0m         \u001b[39mor\u001b[39;00m _global_forward_hooks \u001b[39mor\u001b[39;00m _global_forward_pre_hooks):\n\u001b[0;32m-> 1051\u001b[0m     \u001b[39mreturn\u001b[39;00m forward_call(\u001b[39m*\u001b[39;49m\u001b[39minput\u001b[39;49m, \u001b[39m*\u001b[39;49m\u001b[39m*\u001b[39;49mkwargs)\n\u001b[1;32m   1052\u001b[0m \u001b[39m# Do not call functions when jit is used\u001b[39;00m\n\u001b[1;32m   1053\u001b[0m full_backward_hooks, non_full_backward_hooks \u001b[39m=\u001b[39m [], []\n",
      "File \u001b[0;32m~/Documents/GitHub/Computer-Vision/Labs/lab3/exercise-dl4cv/venv/lib/python3.8/site-packages/torch/nn/modules/conv.py:443\u001b[0m, in \u001b[0;36mConv2d.forward\u001b[0;34m(self, input)\u001b[0m\n\u001b[1;32m    442\u001b[0m \u001b[39mdef\u001b[39;00m \u001b[39mforward\u001b[39m(\u001b[39mself\u001b[39m, \u001b[39minput\u001b[39m: Tensor) \u001b[39m-\u001b[39m\u001b[39m>\u001b[39m Tensor:\n\u001b[0;32m--> 443\u001b[0m     \u001b[39mreturn\u001b[39;00m \u001b[39mself\u001b[39;49m\u001b[39m.\u001b[39;49m_conv_forward(\u001b[39minput\u001b[39;49m, \u001b[39mself\u001b[39;49m\u001b[39m.\u001b[39;49mweight, \u001b[39mself\u001b[39;49m\u001b[39m.\u001b[39;49mbias)\n",
      "File \u001b[0;32m~/Documents/GitHub/Computer-Vision/Labs/lab3/exercise-dl4cv/venv/lib/python3.8/site-packages/torch/nn/modules/conv.py:439\u001b[0m, in \u001b[0;36mConv2d._conv_forward\u001b[0;34m(self, input, weight, bias)\u001b[0m\n\u001b[1;32m    435\u001b[0m \u001b[39mif\u001b[39;00m \u001b[39mself\u001b[39m\u001b[39m.\u001b[39mpadding_mode \u001b[39m!=\u001b[39m \u001b[39m'\u001b[39m\u001b[39mzeros\u001b[39m\u001b[39m'\u001b[39m:\n\u001b[1;32m    436\u001b[0m     \u001b[39mreturn\u001b[39;00m F\u001b[39m.\u001b[39mconv2d(F\u001b[39m.\u001b[39mpad(\u001b[39minput\u001b[39m, \u001b[39mself\u001b[39m\u001b[39m.\u001b[39m_reversed_padding_repeated_twice, mode\u001b[39m=\u001b[39m\u001b[39mself\u001b[39m\u001b[39m.\u001b[39mpadding_mode),\n\u001b[1;32m    437\u001b[0m                     weight, bias, \u001b[39mself\u001b[39m\u001b[39m.\u001b[39mstride,\n\u001b[1;32m    438\u001b[0m                     _pair(\u001b[39m0\u001b[39m), \u001b[39mself\u001b[39m\u001b[39m.\u001b[39mdilation, \u001b[39mself\u001b[39m\u001b[39m.\u001b[39mgroups)\n\u001b[0;32m--> 439\u001b[0m \u001b[39mreturn\u001b[39;00m F\u001b[39m.\u001b[39;49mconv2d(\u001b[39minput\u001b[39;49m, weight, bias, \u001b[39mself\u001b[39;49m\u001b[39m.\u001b[39;49mstride,\n\u001b[1;32m    440\u001b[0m                 \u001b[39mself\u001b[39;49m\u001b[39m.\u001b[39;49mpadding, \u001b[39mself\u001b[39;49m\u001b[39m.\u001b[39;49mdilation, \u001b[39mself\u001b[39;49m\u001b[39m.\u001b[39;49mgroups)\n",
      "\u001b[0;31mRuntimeError\u001b[0m: Given groups=1, weight of size [32, 1, 3, 3], expected input[128, 3, 32, 32] to have 1 channels, but got 3 channels instead"
     ]
    }
   ],
   "source": [
    "epochs = 5\n",
    "for epoch in range(1, epochs + 1):\n",
    "    train(cnn, dl_train, optimizer, epoch, log_interval=100)\n",
    "    test(cnn, dl_test)    \n",
    "    scheduler.step()"
   ]
  },
  {
   "cell_type": "markdown",
   "metadata": {},
   "source": [
    "This will not work. You should see the following error message\n",
    "\n",
    "```\n",
    "Given groups=1, weight of size [32, 1, 3, 3], expected input[128, 3, 32, 32] to have 1 channels, but got 3 channels instead\n",
    "```\n",
    "\n",
    "This error is telling us that something is not right in the definition of our model. Copy the CNN class from above and make changes, so the training works."
   ]
  },
  {
   "cell_type": "code",
   "execution_count": 34,
   "metadata": {},
   "outputs": [
    {
     "data": {
      "text/plain": [
       "torch.Size([1, 10])"
      ]
     },
     "execution_count": 34,
     "metadata": {},
     "output_type": "execute_result"
    }
   ],
   "source": [
    "#########################################################################\n",
    "# TODO: Adapt the definition from the CNN class above to work on CIFAR.\n",
    "# You can copy and run the following prompt for evaluation:\n",
    "# CNN()(torch.randn(1,3,32,32)).shape\n",
    "# It should print 'torch.Size([1, 10])'\n",
    "# Hint: You need to change 2 things. \n",
    "#########################################################################\n",
    "\n",
    "class CNN(nn.Module):\n",
    "    def __init__(self):\n",
    "        super(CNN, self).__init__()\n",
    "                \n",
    "        self.model = nn.Sequential(nn.Conv2d(in_channels=3,out_channels=32,kernel_size=3,stride=1,padding=0),\n",
    "                                    nn.ReLU(),\n",
    "                                    nn.Conv2d(in_channels=32,out_channels=64,kernel_size=3,stride=1,padding=0),\n",
    "                                    nn.ReLU(),\n",
    "                                    nn.MaxPool2d(kernel_size=2,stride=2,padding=0),\n",
    "                                    nn.Flatten(),\n",
    "                                    nn.Dropout(p=0.25),\n",
    "                                    nn.Linear(in_features=12544, out_features=128),\n",
    "                                    nn.ReLU(),\n",
    "                                    nn.Dropout(p=0.5),\n",
    "                                    nn.Linear(in_features=128, out_features=10))\n",
    "        \n",
    "\n",
    "    def forward(self, x):\n",
    "        return self.model(x)\n",
    "    \n",
    "CNN()(torch.randn(1,3,32,32)).shape"
   ]
  },
  {
   "cell_type": "markdown",
   "metadata": {},
   "source": [
    "Let's try again"
   ]
  },
  {
   "cell_type": "code",
   "execution_count": 35,
   "metadata": {
    "scrolled": true
   },
   "outputs": [
    {
     "name": "stdout",
     "output_type": "stream",
     "text": [
      "Train Epoch: 1 [0/50000 (0%)]\tLoss: 2.312949\n",
      "Train Epoch: 1 [12800/50000 (26%)]\tLoss: 2.120730\n",
      "Train Epoch: 1 [25600/50000 (51%)]\tLoss: 2.112684\n",
      "Train Epoch: 1 [38400/50000 (77%)]\tLoss: 2.017099\n",
      "\n",
      "Train set: Average loss: 1.7712, Accuracy: 10798/50000 (21.6%)\n",
      "\n",
      "\n",
      "Test set: Average loss: 1.8167, Accuracy: 3142/10000 (31.420%)\n",
      "\n",
      "Train Epoch: 2 [0/50000 (0%)]\tLoss: 1.792904\n",
      "Train Epoch: 2 [12800/50000 (26%)]\tLoss: 2.004824\n",
      "Train Epoch: 2 [25600/50000 (51%)]\tLoss: 1.869663\n",
      "Train Epoch: 2 [38400/50000 (77%)]\tLoss: 1.993033\n",
      "\n",
      "Train set: Average loss: 1.8755, Accuracy: 13186/50000 (26.4%)\n",
      "\n",
      "\n",
      "Test set: Average loss: 1.8813, Accuracy: 3095/10000 (30.950%)\n",
      "\n",
      "Train Epoch: 3 [0/50000 (0%)]\tLoss: 1.895112\n",
      "Train Epoch: 3 [12800/50000 (26%)]\tLoss: 1.821126\n",
      "Train Epoch: 3 [25600/50000 (51%)]\tLoss: 1.823024\n",
      "Train Epoch: 3 [38400/50000 (77%)]\tLoss: 1.787926\n",
      "\n",
      "Train set: Average loss: 1.8369, Accuracy: 14726/50000 (29.5%)\n",
      "\n",
      "\n",
      "Test set: Average loss: 1.7276, Accuracy: 3410/10000 (34.100%)\n",
      "\n",
      "Train Epoch: 4 [0/50000 (0%)]\tLoss: 1.899804\n",
      "Train Epoch: 4 [12800/50000 (26%)]\tLoss: 1.877691\n",
      "Train Epoch: 4 [25600/50000 (51%)]\tLoss: 1.946768\n",
      "Train Epoch: 4 [38400/50000 (77%)]\tLoss: 1.891299\n",
      "\n",
      "Train set: Average loss: 1.8271, Accuracy: 16991/50000 (34.0%)\n",
      "\n",
      "\n",
      "Test set: Average loss: 1.5677, Accuracy: 4275/10000 (42.750%)\n",
      "\n",
      "Train Epoch: 5 [0/50000 (0%)]\tLoss: 1.813444\n",
      "Train Epoch: 5 [12800/50000 (26%)]\tLoss: 1.727023\n",
      "Train Epoch: 5 [25600/50000 (51%)]\tLoss: 1.721693\n",
      "Train Epoch: 5 [38400/50000 (77%)]\tLoss: 1.752209\n",
      "\n",
      "Train set: Average loss: 1.8141, Accuracy: 18509/50000 (37.0%)\n",
      "\n",
      "\n",
      "Test set: Average loss: 1.4912, Accuracy: 4682/10000 (46.820%)\n",
      "\n",
      "Train Epoch: 6 [0/50000 (0%)]\tLoss: 1.673563\n",
      "Train Epoch: 6 [12800/50000 (26%)]\tLoss: 1.587637\n",
      "Train Epoch: 6 [25600/50000 (51%)]\tLoss: 1.650247\n",
      "Train Epoch: 6 [38400/50000 (77%)]\tLoss: 1.632581\n",
      "\n",
      "Train set: Average loss: 1.7414, Accuracy: 18891/50000 (37.8%)\n",
      "\n",
      "\n",
      "Test set: Average loss: 1.4686, Accuracy: 4564/10000 (45.640%)\n",
      "\n",
      "Train Epoch: 7 [0/50000 (0%)]\tLoss: 1.518086\n",
      "Train Epoch: 7 [12800/50000 (26%)]\tLoss: 1.553337\n",
      "Train Epoch: 7 [25600/50000 (51%)]\tLoss: 1.458642\n",
      "Train Epoch: 7 [38400/50000 (77%)]\tLoss: 1.823786\n",
      "\n",
      "Train set: Average loss: 1.7701, Accuracy: 18991/50000 (38.0%)\n",
      "\n",
      "\n",
      "Test set: Average loss: 1.5444, Accuracy: 4424/10000 (44.240%)\n",
      "\n",
      "Train Epoch: 8 [0/50000 (0%)]\tLoss: 1.820614\n",
      "Train Epoch: 8 [12800/50000 (26%)]\tLoss: 1.474447\n",
      "Train Epoch: 8 [25600/50000 (51%)]\tLoss: 1.644932\n",
      "Train Epoch: 8 [38400/50000 (77%)]\tLoss: 1.602997\n",
      "\n",
      "Train set: Average loss: 1.7252, Accuracy: 19624/50000 (39.2%)\n",
      "\n",
      "\n",
      "Test set: Average loss: 1.4200, Accuracy: 4844/10000 (48.440%)\n",
      "\n",
      "Train Epoch: 9 [0/50000 (0%)]\tLoss: 1.750937\n",
      "Train Epoch: 9 [12800/50000 (26%)]\tLoss: 1.633504\n",
      "Train Epoch: 9 [25600/50000 (51%)]\tLoss: 1.746281\n",
      "Train Epoch: 9 [38400/50000 (77%)]\tLoss: 1.599552\n",
      "\n",
      "Train set: Average loss: 1.5155, Accuracy: 19666/50000 (39.3%)\n",
      "\n",
      "\n",
      "Test set: Average loss: 1.5148, Accuracy: 4505/10000 (45.050%)\n",
      "\n",
      "Train Epoch: 10 [0/50000 (0%)]\tLoss: 1.841611\n",
      "Train Epoch: 10 [12800/50000 (26%)]\tLoss: 1.557592\n",
      "Train Epoch: 10 [25600/50000 (51%)]\tLoss: 1.458937\n",
      "Train Epoch: 10 [38400/50000 (77%)]\tLoss: 1.611066\n",
      "\n",
      "Train set: Average loss: 1.5060, Accuracy: 19930/50000 (39.9%)\n",
      "\n",
      "\n",
      "Test set: Average loss: 1.4350, Accuracy: 4711/10000 (47.110%)\n",
      "\n"
     ]
    }
   ],
   "source": [
    "cnn = CNN()\n",
    "optimizer = optim.SGD(cnn.parameters(), lr=0.1, momentum=0.9, weight_decay=5e-4)\n",
    "scheduler = torch.optim.lr_scheduler.CosineAnnealingLR(optimizer, T_max=200)\n",
    "\n",
    "epochs = 10\n",
    "for epoch in range(1, epochs + 1):\n",
    "    train(cnn, dl_train, optimizer, epoch, log_interval=100)\n",
    "    test(cnn, dl_test)    \n",
    "    scheduler.step()"
   ]
  },
  {
   "cell_type": "markdown",
   "metadata": {},
   "source": [
    "This should give 40 - 50 % - and if you are not already on Colab it will give you a stressed out laptop. The performance is a lot better than random, but we can definitely do better."
   ]
  },
  {
   "cell_type": "markdown",
   "metadata": {},
   "source": [
    "### Have fun with GPUs\n",
    "You can already call it a day until this point because we won't grade the rest of the excecise. You can have more fun with the rest :)\n"
   ]
  },
  {
   "cell_type": "markdown",
   "metadata": {},
   "source": [
    "\n",
    "If you didn't already, move to colab. To use a GPU, follow on the collaboratory menu tabs, \"Runtime\" => \"Change runtime type\" and set it to GPU. Then run the same training loop but now on GPU. \n",
    "\n",
    "It as easy as:"
   ]
  },
  {
   "cell_type": "code",
   "execution_count": null,
   "metadata": {},
   "outputs": [
    {
     "ename": "RuntimeError",
     "evalue": "Expected one of cpu, cuda, xpu, mkldnn, opengl, opencl, ideep, hip, msnpu, mlc, xla, vulkan, meta, hpu device type at start of device string: mps",
     "output_type": "error",
     "traceback": [
      "\u001b[0;31m---------------------------------------------------------------------------\u001b[0m",
      "\u001b[0;31mRuntimeError\u001b[0m                              Traceback (most recent call last)",
      "\u001b[1;32m/Users/filippoficarra/Documents/GitHub/Computer-Vision/Labs/lab3/exercise-dl4cv/code/image_classification.ipynb Cell 65\u001b[0m line \u001b[0;36m7\n\u001b[1;32m      <a href='vscode-notebook-cell:/Users/filippoficarra/Documents/GitHub/Computer-Vision/Labs/lab3/exercise-dl4cv/code/image_classification.ipynb#Y115sZmlsZQ%3D%3D?line=4'>5</a>\u001b[0m optimizer \u001b[39m=\u001b[39m optim\u001b[39m.\u001b[39mSGD(cnn\u001b[39m.\u001b[39mparameters(), lr\u001b[39m=\u001b[39m\u001b[39m0.1\u001b[39m, momentum\u001b[39m=\u001b[39m\u001b[39m0.9\u001b[39m, weight_decay\u001b[39m=\u001b[39m\u001b[39m5e-4\u001b[39m)\n\u001b[1;32m      <a href='vscode-notebook-cell:/Users/filippoficarra/Documents/GitHub/Computer-Vision/Labs/lab3/exercise-dl4cv/code/image_classification.ipynb#Y115sZmlsZQ%3D%3D?line=5'>6</a>\u001b[0m scheduler \u001b[39m=\u001b[39m torch\u001b[39m.\u001b[39moptim\u001b[39m.\u001b[39mlr_scheduler\u001b[39m.\u001b[39mCosineAnnealingLR(optimizer, T_max\u001b[39m=\u001b[39m\u001b[39m200\u001b[39m)\n\u001b[0;32m----> <a href='vscode-notebook-cell:/Users/filippoficarra/Documents/GitHub/Computer-Vision/Labs/lab3/exercise-dl4cv/code/image_classification.ipynb#Y115sZmlsZQ%3D%3D?line=6'>7</a>\u001b[0m cnn \u001b[39m=\u001b[39m cnn\u001b[39m.\u001b[39;49mto(device)\n\u001b[1;32m      <a href='vscode-notebook-cell:/Users/filippoficarra/Documents/GitHub/Computer-Vision/Labs/lab3/exercise-dl4cv/code/image_classification.ipynb#Y115sZmlsZQ%3D%3D?line=8'>9</a>\u001b[0m epochs \u001b[39m=\u001b[39m \u001b[39m10\u001b[39m\n\u001b[1;32m     <a href='vscode-notebook-cell:/Users/filippoficarra/Documents/GitHub/Computer-Vision/Labs/lab3/exercise-dl4cv/code/image_classification.ipynb#Y115sZmlsZQ%3D%3D?line=9'>10</a>\u001b[0m \u001b[39mfor\u001b[39;00m epoch \u001b[39min\u001b[39;00m \u001b[39mrange\u001b[39m(\u001b[39m1\u001b[39m, epochs \u001b[39m+\u001b[39m \u001b[39m1\u001b[39m):\n",
      "File \u001b[0;32m~/Documents/GitHub/Computer-Vision/Labs/lab3/exercise-dl4cv/venv/lib/python3.8/site-packages/torch/nn/modules/module.py:833\u001b[0m, in \u001b[0;36mModule.to\u001b[0;34m(self, *args, **kwargs)\u001b[0m\n\u001b[1;32m    752\u001b[0m \u001b[39mdef\u001b[39;00m \u001b[39mto\u001b[39m(\u001b[39mself\u001b[39m, \u001b[39m*\u001b[39margs, \u001b[39m*\u001b[39m\u001b[39m*\u001b[39mkwargs):\n\u001b[1;32m    753\u001b[0m \u001b[39m    \u001b[39m\u001b[39mr\u001b[39m\u001b[39m\"\"\"Moves and/or casts the parameters and buffers.\u001b[39;00m\n\u001b[1;32m    754\u001b[0m \n\u001b[1;32m    755\u001b[0m \u001b[39m    This can be called as\u001b[39;00m\n\u001b[0;32m   (...)\u001b[0m\n\u001b[1;32m    830\u001b[0m \n\u001b[1;32m    831\u001b[0m \u001b[39m    \"\"\"\u001b[39;00m\n\u001b[0;32m--> 833\u001b[0m     device, dtype, non_blocking, convert_to_format \u001b[39m=\u001b[39m torch\u001b[39m.\u001b[39;49m_C\u001b[39m.\u001b[39;49m_nn\u001b[39m.\u001b[39;49m_parse_to(\u001b[39m*\u001b[39;49margs, \u001b[39m*\u001b[39;49m\u001b[39m*\u001b[39;49mkwargs)\n\u001b[1;32m    835\u001b[0m     \u001b[39mif\u001b[39;00m dtype \u001b[39mis\u001b[39;00m \u001b[39mnot\u001b[39;00m \u001b[39mNone\u001b[39;00m:\n\u001b[1;32m    836\u001b[0m         \u001b[39mif\u001b[39;00m \u001b[39mnot\u001b[39;00m (dtype\u001b[39m.\u001b[39mis_floating_point \u001b[39mor\u001b[39;00m dtype\u001b[39m.\u001b[39mis_complex):\n",
      "\u001b[0;31mRuntimeError\u001b[0m: Expected one of cpu, cuda, xpu, mkldnn, opengl, opencl, ideep, hip, msnpu, mlc, xla, vulkan, meta, hpu device type at start of device string: mps"
     ]
    }
   ],
   "source": [
    "device = 'gpu'\n",
    "if device == 'cuda': torch.backends.cudnn.benchmark = True # additional speed up\n",
    "\n",
    "cnn = CNN()\n",
    "optimizer = optim.SGD(cnn.parameters(), lr=0.1, momentum=0.9, weight_decay=5e-4)\n",
    "scheduler = torch.optim.lr_scheduler.CosineAnnealingLR(optimizer, T_max=200)\n",
    "cnn = cnn.to(device)\n",
    "\n",
    "epochs = 10\n",
    "for epoch in range(1, epochs + 1):\n",
    "    train(cnn, dl_train, optimizer, epoch, log_interval=100, device=device)\n",
    "    test(cnn, dl_test, device=device)    \n",
    "    scheduler.step()"
   ]
  },
  {
   "cell_type": "markdown",
   "metadata": {},
   "source": [
    "This should be way faster now. But the true advantage of the GPU is that we can use much bigger models now and still train them in a reasonable amount of time. PyTorch is again very handy. The torchvision library comes with varies state-of-the-art model architectures, some of which you have seen in the lecture."
   ]
  },
  {
   "cell_type": "code",
   "execution_count": null,
   "metadata": {},
   "outputs": [],
   "source": [
    "from torchvision.models import resnet18"
   ]
  },
  {
   "cell_type": "code",
   "execution_count": null,
   "metadata": {
    "scrolled": true
   },
   "outputs": [],
   "source": [
    "cnn = resnet18()\n",
    "print(cnn)"
   ]
  },
  {
   "cell_type": "markdown",
   "metadata": {},
   "source": [
    "Looks scary! But the only thing you need to change to make it work on CIFAR is the last layer.\n",
    "Currently the last layer is:\n",
    "```\n",
    "  (fc): Linear(in_features=512, out_features=1000, bias=True)\n",
    "```\n",
    "out_features is the number of classes. This models are developed for Imagenet, a dataset with 1000 classes. So this part of the model you need to adapt. Additionally, you need to add a log-softmax layer again, as we us negative log-likelihood as the training criterion. "
   ]
  },
  {
   "cell_type": "code",
   "execution_count": null,
   "metadata": {},
   "outputs": [],
   "source": [
    "#########################################################################\n",
    "# TODO: Adapt the Resnet to work on CIFAR\n",
    "#########################################################################\n",
    "cnn.fc = nn.Sequential(nn.Linear(in_features=512, out_features=10, bias=True),\n",
    "                       nn.LogSoftmax())"
   ]
  },
  {
   "cell_type": "code",
   "execution_count": null,
   "metadata": {},
   "outputs": [],
   "source": [
    "# This should print 'torch.Size([16, 10])'\n",
    "cnn(torch.randn(16,3,32,32)).shape"
   ]
  },
  {
   "cell_type": "code",
   "execution_count": null,
   "metadata": {},
   "outputs": [],
   "source": [
    "device = 'cuda'\n",
    "if device == 'cuda': torch.backends.cudnn.benchmark = True # this gives us additional speed up\n",
    "\n",
    "optimizer = optim.SGD(cnn.parameters(), lr=0.1, momentum=0.9, weight_decay=5e-4)\n",
    "scheduler = torch.optim.lr_scheduler.CosineAnnealingLR(optimizer, T_max=200)\n",
    "cnn = cnn.to(device)\n",
    "\n",
    "epochs = 50\n",
    "for epoch in range(1, epochs + 1):\n",
    "    train(cnn, dl_train, optimizer, epoch, log_interval=100, device=device)\n",
    "    test(cnn, dl_test, device=device)    \n",
    "    scheduler.step()"
   ]
  },
  {
   "cell_type": "markdown",
   "metadata": {},
   "source": [
    "This should get us well above 75%, the best we got was ~ 80%.\n",
    "\n",
    "Now, use different torchvision architectures, different optimizers (Adam is always a good choice), data augmentation techniques, and hyperparameter search to achieve a test accuracy of >90 %"
   ]
  },
  {
   "cell_type": "code",
   "execution_count": null,
   "metadata": {},
   "outputs": [],
   "source": []
  }
 ],
 "metadata": {
  "kernelspec": {
   "display_name": "Python 3.9.12 ('base')",
   "language": "python",
   "name": "python3"
  },
  "language_info": {
   "codemirror_mode": {
    "name": "ipython",
    "version": 3
   },
   "file_extension": ".py",
   "mimetype": "text/x-python",
   "name": "python",
   "nbconvert_exporter": "python",
   "pygments_lexer": "ipython3",
   "version": "3.11.6"
  },
  "vscode": {
   "interpreter": {
    "hash": "d268b61a0efacafa8645774cb6d0204c9f01d7563ef03f7672146d044e8f345c"
   }
  }
 },
 "nbformat": 4,
 "nbformat_minor": 4
}
