{
 "cells": [
  {
   "cell_type": "markdown",
   "metadata": {},
   "source": [
    "# Point Cloud Binary Classification with PyTorch"
   ]
  },
  {
   "cell_type": "markdown",
   "metadata": {},
   "source": [
    "Make sure you are using the `dl4cv` conda environment."
   ]
  },
  {
   "cell_type": "markdown",
   "metadata": {},
   "source": [
    "## Dataset loading and visualization"
   ]
  },
  {
   "cell_type": "markdown",
   "metadata": {},
   "source": [
    "The input X contain 100 2D points, and y are their corresponding labels (0 or 1). The goal is to train a model that can classify every point to its correct label.\n"
   ]
  },
  {
   "cell_type": "code",
   "execution_count": 61,
   "metadata": {},
   "outputs": [
    {
     "data": {
      "image/png": "[encoded data removed]",
      "text/plain": [
       "<Figure size 640x480 with 1 Axes>"
      ]
     },
     "metadata": {},
     "output_type": "display_data"
    },
    {
     "data": {
      "text/plain": [
       "<Figure size 640x480 with 0 Axes>"
      ]
     },
     "metadata": {},
     "output_type": "display_data"
    }
   ],
   "source": [
    "%matplotlib inline\n",
    "import matplotlib.pyplot as plt\n",
    "import numpy as np\n",
    "import torch\n",
    "import torch.nn as nn\n",
    "import torch.nn.functional as F\n",
    "import torch.optim as optim\n",
    "from torch.utils.data import Dataset\n",
    "from torch.utils.data import DataLoader\n",
    "from torch.optim import Adam\n",
    "\n",
    "dataset = np.load('data/2d_pcl_dataset.npz')\n",
    "X, y = dataset['X'], dataset['y']\n",
    "\n",
    "X0 = X[y==0] # 50 2D points have label 0\n",
    "X1 = X[y==1] # 50 2D points have label 1\n",
    "\n",
    "def plot(X0, X1, fit_param=None):\n",
    "    plt.scatter(X0[:,0], X0[:,1], color='red', label=0)\n",
    "    plt.scatter(X1[:,0], X1[:,1], color='blue', label=1)\n",
    "    \n",
    "    plt.xlim([-0.55, 0.55])\n",
    "    plt.ylim([-0.35, 0.25])\n",
    "    plt.legend()\n",
    "    plt.show()\n",
    "    plt.clf()\n",
    "\n",
    "plot(X0, X1)"
   ]
  },
  {
   "cell_type": "markdown",
   "metadata": {},
   "source": [
    "## Logistic Regression for the point cloud classification task\n"
   ]
  },
  {
   "cell_type": "markdown",
   "metadata": {},
   "source": [
    "Starting by filling in the `Simple2DDataset` class below. First, in the class constructore `__init__`, you will need to read the right `2d_pcl_dataset.npz` from disk.\n",
    "\n",
    "Second, in the `__getitem__`, you will need to take a single data point and its label based on its index `idx`"
   ]
  },
  {
   "cell_type": "code",
   "execution_count": 62,
   "metadata": {},
   "outputs": [],
   "source": [
    "class Simple2DDataset(Dataset):\n",
    "    def __init__(self):\n",
    "        super().__init__()\n",
    "        #########################################################################\n",
    "        # TODO: read data from disk using np.load.\n",
    "        # Data is located in the folder \"data\".\n",
    "        # Save samples and labels to class members self.X and self.y respectively.\n",
    "        # samples should be an Nx2 numpy array. Labels should be Nx1.\n",
    "        #########################################################################\n",
    "        dataset = np.load('data/2d_pcl_dataset.npz')\n",
    "        self.X = dataset['X']\n",
    "        self.y = dataset['y']\n",
    "        \n",
    "     \n",
    "    def __len__(self):\n",
    "        # Returns the number of samples in the dataset.\n",
    "        return self.X.shape[0]\n",
    "    \n",
    "    def __getitem__(self, idx):\n",
    "        #########################################################################\n",
    "        # TODO: return the sample and label with index idx\n",
    "        #########################################################################\n",
    "        point = self.X[idx]\n",
    "        label = self.y[idx]\n",
    "        \n",
    "        # Convert to tensor.\n",
    "        return torch.from_numpy(point).float(), \\\n",
    "               torch.from_numpy(label[np.newaxis]).float()\n"
   ]
  },
  {
   "cell_type": "markdown",
   "metadata": {},
   "source": [
    "With the complete `Simple2DDataset`, we can create a PyTorch dataloader\n",
    "\n",
    "**NOTE**: if you encounter some unexpected errors in data loading, try setting `NUM_WORKERS = 0`"
   ]
  },
  {
   "cell_type": "code",
   "execution_count": 63,
   "metadata": {},
   "outputs": [],
   "source": [
    "BATCH_SIZE = 8\n",
    "NUM_WORKERS = 0\n",
    "\n",
    "# create the dataloader\n",
    "dataset = Simple2DDataset()\n",
    "train_dataloader = DataLoader(\n",
    "    dataset,\n",
    "    batch_size=BATCH_SIZE,\n",
    "    num_workers=NUM_WORKERS,\n",
    "    shuffle=True\n",
    ")"
   ]
  },
  {
   "cell_type": "markdown",
   "metadata": {},
   "source": [
    "Now, define your first network by filling in the `LinearClassifier` class below.\n",
    "\n",
    "Add a single linear layer `nn.Linear` inside the `nn.Sequential` call. The input is 2D, and the output should be a single value, corresponding to the probability of a given 2D point being part of cluster 0."
   ]
  },
  {
   "cell_type": "code",
   "execution_count": 64,
   "metadata": {},
   "outputs": [],
   "source": [
    "class LinearClassifier(nn.Module):\n",
    "    def __init__(self):\n",
    "        super().__init__()\n",
    "\n",
    "        self.codename = 'linear'\n",
    "\n",
    "        #########################################################################\n",
    "        # TODO: add a single linear layer with nn.Linear, inside the `nn.Sequential` call.\n",
    "        # Input is 2D.\n",
    "        # Output is a single value.\n",
    "        #########################################################################\n",
    "        self.model = nn.Sequential(nn.Linear(in_features = 2, out_features = 1))\n",
    "        \n",
    "    def forward(self, batch):\n",
    "        # Process batch using the defined model.\n",
    "        x = self.model(batch)\n",
    "        # Final sigmoid activation to obtain a probability between 0 and 1.\n",
    "        return torch.sigmoid(x)"
   ]
  },
  {
   "cell_type": "markdown",
   "metadata": {},
   "source": [
    "Now, you are asked to implement the training loop below"
   ]
  },
  {
   "cell_type": "code",
   "execution_count": 65,
   "metadata": {},
   "outputs": [],
   "source": [
    "def train(net, optimizer, dataloader, epoch):\n",
    "    net.train()\n",
    "    loss_sum = 0\n",
    "    for batch_idx, (point, label) in enumerate(dataloader):\n",
    "        # First we need to zero the gradient, otherwise PyTorch would accumulate them\n",
    "        optimizer.zero_grad()\n",
    "\n",
    "        #########################################################################\n",
    "        #TODO: \n",
    "        # 1. forward pass of the network to obtain the predictions given the batch\n",
    "        # 2. compute the loss using F.binary_cross_entropy\n",
    "        # 3. backward pass on the loss using loss.backward(), and one step \n",
    "        # of gradient descent (optimization) using optimizer.step()\n",
    "        #########################################################################\n",
    "        output = net(point)\n",
    "        loss = F.binary_cross_entropy(output, label)\n",
    "        loss.backward()\n",
    "        optimizer.step()\n",
    "        loss_sum += loss.item()\n",
    "    return loss_sum\n",
    "        "
   ]
  },
  {
   "cell_type": "markdown",
   "metadata": {},
   "source": [
    "You can now run below to train the linear model."
   ]
  },
  {
   "cell_type": "code",
   "execution_count": 66,
   "metadata": {
    "scrolled": true,
    "tags": []
   },
   "outputs": [
    {
     "name": "stdout",
     "output_type": "stream",
     "text": [
      "[Epoch 01] Loss: 7.5493\n",
      "[Epoch 02] Loss: 6.2406\n",
      "[Epoch 03] Loss: 5.3807\n",
      "[Epoch 04] Loss: 5.0353\n",
      "[Epoch 05] Loss: 4.6068\n",
      "[Epoch 06] Loss: 4.4257\n",
      "[Epoch 07] Loss: 4.4324\n",
      "[Epoch 08] Loss: 4.1850\n",
      "[Epoch 09] Loss: 4.1513\n",
      "[Epoch 10] Loss: 3.9236\n",
      "[Epoch 11] Loss: 4.1166\n",
      "[Epoch 12] Loss: 3.8321\n",
      "[Epoch 13] Loss: 4.1648\n",
      "[Epoch 14] Loss: 3.6769\n",
      "[Epoch 15] Loss: 3.6969\n",
      "[Epoch 16] Loss: 3.6378\n",
      "[Epoch 17] Loss: 3.6231\n",
      "[Epoch 18] Loss: 3.6172\n",
      "[Epoch 19] Loss: 3.6222\n",
      "[Epoch 20] Loss: 3.6146\n",
      "[Epoch 21] Loss: 3.7573\n",
      "[Epoch 22] Loss: 3.5381\n",
      "[Epoch 23] Loss: 3.6921\n",
      "[Epoch 24] Loss: 3.5480\n",
      "[Epoch 25] Loss: 3.5574\n",
      "[Epoch 26] Loss: 3.5242\n",
      "[Epoch 27] Loss: 3.5218\n",
      "[Epoch 28] Loss: 3.4862\n",
      "[Epoch 29] Loss: 3.4998\n",
      "[Epoch 30] Loss: 3.6853\n",
      "[Epoch 31] Loss: 4.2364\n",
      "[Epoch 32] Loss: 3.4970\n",
      "[Epoch 33] Loss: 3.5652\n",
      "[Epoch 34] Loss: 3.5170\n",
      "[Epoch 35] Loss: 3.7809\n",
      "[Epoch 36] Loss: 3.6528\n",
      "[Epoch 37] Loss: 3.5459\n",
      "[Epoch 38] Loss: 3.5125\n",
      "[Epoch 39] Loss: 3.5083\n",
      "[Epoch 40] Loss: 3.4636\n",
      "[Epoch 41] Loss: 3.6395\n",
      "[Epoch 42] Loss: 3.6240\n",
      "[Epoch 43] Loss: 3.6699\n",
      "[Epoch 44] Loss: 3.7372\n",
      "[Epoch 45] Loss: 3.6772\n",
      "[Epoch 46] Loss: 3.4427\n",
      "[Epoch 47] Loss: 3.5733\n",
      "[Epoch 48] Loss: 3.5842\n",
      "[Epoch 49] Loss: 3.4462\n",
      "[Epoch 50] Loss: 3.4676\n",
      "[Epoch 51] Loss: 3.4425\n",
      "[Epoch 52] Loss: 3.4466\n",
      "[Epoch 53] Loss: 3.4897\n",
      "[Epoch 54] Loss: 3.6866\n",
      "[Epoch 55] Loss: 3.7982\n",
      "[Epoch 56] Loss: 3.5858\n",
      "[Epoch 57] Loss: 3.6457\n",
      "[Epoch 58] Loss: 3.5002\n",
      "[Epoch 59] Loss: 3.4423\n",
      "[Epoch 60] Loss: 3.4818\n",
      "[Epoch 61] Loss: 3.5906\n",
      "[Epoch 62] Loss: 3.5404\n",
      "[Epoch 63] Loss: 3.4654\n",
      "[Epoch 64] Loss: 3.7063\n",
      "[Epoch 65] Loss: 3.4729\n",
      "[Epoch 66] Loss: 3.4724\n",
      "[Epoch 67] Loss: 3.4442\n",
      "[Epoch 68] Loss: 3.4513\n",
      "[Epoch 69] Loss: 3.6061\n",
      "[Epoch 70] Loss: 3.4830\n",
      "[Epoch 71] Loss: 3.4868\n",
      "[Epoch 72] Loss: 3.9192\n",
      "[Epoch 73] Loss: 3.6241\n",
      "[Epoch 74] Loss: 3.5240\n",
      "[Epoch 75] Loss: 3.4914\n",
      "[Epoch 76] Loss: 3.4683\n",
      "[Epoch 77] Loss: 3.4603\n",
      "[Epoch 78] Loss: 3.4980\n",
      "[Epoch 79] Loss: 3.4561\n",
      "[Epoch 80] Loss: 3.6003\n",
      "[Epoch 81] Loss: 3.6777\n",
      "[Epoch 82] Loss: 3.6684\n",
      "[Epoch 83] Loss: 3.5643\n",
      "[Epoch 84] Loss: 3.4490\n",
      "[Epoch 85] Loss: 3.4431\n",
      "[Epoch 86] Loss: 3.4988\n",
      "[Epoch 87] Loss: 3.5061\n",
      "[Epoch 88] Loss: 3.5544\n",
      "[Epoch 89] Loss: 3.4655\n",
      "[Epoch 90] Loss: 3.9257\n",
      "[Epoch 91] Loss: 3.7174\n",
      "[Epoch 92] Loss: 3.5473\n",
      "[Epoch 93] Loss: 3.4558\n",
      "[Epoch 94] Loss: 3.4594\n",
      "[Epoch 95] Loss: 3.7613\n",
      "[Epoch 96] Loss: 3.5026\n",
      "[Epoch 97] Loss: 3.5077\n",
      "[Epoch 98] Loss: 3.5181\n",
      "[Epoch 99] Loss: 3.6184\n",
      "[Epoch 100] Loss: 3.4755\n"
     ]
    }
   ],
   "source": [
    "NUM_EPOCHS = 100\n",
    "# create the network.\n",
    "net = LinearClassifier()\n",
    "\n",
    "# create the optimizer.\n",
    "optimizer = Adam(net.parameters(), lr=0.1)\n",
    "\n",
    "best_accuracy = 0\n",
    "for epoch_idx in range(NUM_EPOCHS):\n",
    "    loss = train(net, optimizer, train_dataloader, epoch_idx)\n",
    "    print('[Epoch %02d] Loss: %.4f' % (epoch_idx + 1, loss))"
   ]
  },
  {
   "cell_type": "markdown",
   "metadata": {},
   "source": [
    "Now plot your result below.\n"
   ]
  },
  {
   "cell_type": "code",
   "execution_count": null,
   "metadata": {},
   "outputs": [],
   "source": []
  },
  {
   "cell_type": "code",
   "execution_count": 67,
   "metadata": {},
   "outputs": [
    {
     "data": {
      "image/png": "[encoded data removed]",
      "text/plain": [
       "<Figure size 640x480 with 1 Axes>"
      ]
     },
     "metadata": {},
     "output_type": "display_data"
    },
    {
     "data": {
      "text/plain": [
       "<Figure size 640x480 with 0 Axes>"
      ]
     },
     "metadata": {},
     "output_type": "display_data"
    }
   ],
   "source": [
    "p = np.linspace(-0.5, 0.5, 500)\n",
    "x_plot, y_plot = np.meshgrid(p, p)\n",
    "X_plot = np.stack((x_plot, y_plot), axis=2).reshape(-1, 2)\n",
    "X_plot = torch.from_numpy(X_plot).float()\n",
    "output = net(X_plot)\n",
    "output = output.detach().numpy()\n",
    "output = output.reshape(x_plot.shape[0], x_plot.shape[1])\n",
    "\n",
    "plt.contour(x_plot, y_plot, output, [0.5],\n",
    "                  colors=('k',),\n",
    "                  linewidths=(3,))\n",
    "plot(X0, X1)\n"
   ]
  },
  {
   "cell_type": "markdown",
   "metadata": {},
   "source": [
    "### Implement your first multi-layer perceptron (MLP) for point cloud classification\n",
    "Now you should notice that your logistic regression model cannot classify the point cloud correctly, and this is as expected :)  \n",
    "Therefore, we now ask you to implement an MLP for the same binary classification task."
   ]
  },
  {
   "cell_type": "code",
   "execution_count": 68,
   "metadata": {},
   "outputs": [],
   "source": [
    "# These are the parameters to be used\n",
    "nInput = 2\n",
    "nOutput = 1\n",
    "nHidden = 16\n",
    "act_fn = nn.ReLU()\n",
    "\n",
    "class MLP(nn.Module):\n",
    "    def __init__(self, nInput, nOutput, nHidden, act_fn):\n",
    "        super().__init__()\n",
    "\n",
    "        # Define the network layers in order.\n",
    "        # Input is 2D (nInput).\n",
    "        # Output is a single value (nOutput).\n",
    "        # Multiple linear layers each followed by a ReLU non-linearity (apart from the last).\n",
    "        #########################################################################\n",
    "        # TODO: add a two-layer MLP, inside the `nn.Sequential` call.\n",
    "        # Input is 2D.\n",
    "        # Output is a single value.\n",
    "\n",
    "        # Hint: unlike logistic regression where you need only one nn.Linear layer, \n",
    "        # here you will have two nn.Linear layers. After the first layer, we \n",
    "        # apply a ReLU activation function. The output is then passed to another \n",
    "        # linear layer. Note that you should use `nHidden` below as the hidden dimension \n",
    "        # of your linear layers.\n",
    "        #########################################################################\n",
    "        self.model = nn.Sequential(nn.Linear(in_features = nInput, out_features = nHidden),\n",
    "                                    act_fn,\n",
    "                                   nn.Linear(in_features = nHidden, out_features = nOutput)\n",
    "        )\n",
    "        \n",
    "    def forward(self, batch):\n",
    "        # Process batch using the defined model.\n",
    "        x = self.model(batch)\n",
    "        # Final sigmoid activation to obtain a probability.\n",
    "        return torch.sigmoid(x)\n"
   ]
  },
  {
   "cell_type": "markdown",
   "metadata": {},
   "source": [
    "Run below again!"
   ]
  },
  {
   "cell_type": "code",
   "execution_count": 69,
   "metadata": {},
   "outputs": [
    {
     "name": "stdout",
     "output_type": "stream",
     "text": [
      "[Epoch 01] Loss: 7.6442\n",
      "[Epoch 02] Loss: 4.8464\n",
      "[Epoch 03] Loss: 3.9338\n",
      "[Epoch 04] Loss: 3.7101\n",
      "[Epoch 05] Loss: 4.0249\n",
      "[Epoch 06] Loss: 3.5168\n",
      "[Epoch 07] Loss: 3.7602\n",
      "[Epoch 08] Loss: 3.8216\n",
      "[Epoch 09] Loss: 3.6318\n",
      "[Epoch 10] Loss: 3.6152\n",
      "[Epoch 11] Loss: 3.5525\n",
      "[Epoch 12] Loss: 3.7122\n",
      "[Epoch 13] Loss: 3.2392\n",
      "[Epoch 14] Loss: 3.4836\n",
      "[Epoch 15] Loss: 3.4020\n",
      "[Epoch 16] Loss: 3.4310\n",
      "[Epoch 17] Loss: 3.3028\n",
      "[Epoch 18] Loss: 3.2445\n",
      "[Epoch 19] Loss: 3.7070\n",
      "[Epoch 20] Loss: 3.2530\n",
      "[Epoch 21] Loss: 3.4718\n",
      "[Epoch 22] Loss: 3.2121\n",
      "[Epoch 23] Loss: 2.9642\n",
      "[Epoch 24] Loss: 3.1630\n",
      "[Epoch 25] Loss: 3.0171\n",
      "[Epoch 26] Loss: 2.9443\n",
      "[Epoch 27] Loss: 3.0718\n",
      "[Epoch 28] Loss: 3.1656\n",
      "[Epoch 29] Loss: 3.1348\n",
      "[Epoch 30] Loss: 2.9404\n",
      "[Epoch 31] Loss: 2.9937\n",
      "[Epoch 32] Loss: 3.2967\n",
      "[Epoch 33] Loss: 2.9744\n",
      "[Epoch 34] Loss: 2.9908\n",
      "[Epoch 35] Loss: 2.8627\n",
      "[Epoch 36] Loss: 2.8235\n",
      "[Epoch 37] Loss: 2.9718\n",
      "[Epoch 38] Loss: 3.2490\n",
      "[Epoch 39] Loss: 3.0829\n",
      "[Epoch 40] Loss: 3.0221\n",
      "[Epoch 41] Loss: 2.9450\n",
      "[Epoch 42] Loss: 2.8783\n",
      "[Epoch 43] Loss: 3.0396\n",
      "[Epoch 44] Loss: 3.0859\n",
      "[Epoch 45] Loss: 2.9896\n",
      "[Epoch 46] Loss: 2.8425\n",
      "[Epoch 47] Loss: 2.9492\n",
      "[Epoch 48] Loss: 2.8311\n",
      "[Epoch 49] Loss: 2.8740\n",
      "[Epoch 50] Loss: 2.8415\n",
      "[Epoch 51] Loss: 2.8730\n",
      "[Epoch 52] Loss: 2.7247\n",
      "[Epoch 53] Loss: 2.8786\n",
      "[Epoch 54] Loss: 2.8970\n",
      "[Epoch 55] Loss: 3.5736\n",
      "[Epoch 56] Loss: 2.8746\n",
      "[Epoch 57] Loss: 3.2342\n",
      "[Epoch 58] Loss: 3.0220\n",
      "[Epoch 59] Loss: 2.7187\n",
      "[Epoch 60] Loss: 2.9283\n",
      "[Epoch 61] Loss: 2.8525\n",
      "[Epoch 62] Loss: 2.7716\n",
      "[Epoch 63] Loss: 2.8847\n",
      "[Epoch 64] Loss: 2.7782\n",
      "[Epoch 65] Loss: 2.8871\n",
      "[Epoch 66] Loss: 2.8644\n",
      "[Epoch 67] Loss: 2.9138\n",
      "[Epoch 68] Loss: 2.9662\n",
      "[Epoch 69] Loss: 2.8902\n",
      "[Epoch 70] Loss: 2.9772\n",
      "[Epoch 71] Loss: 3.0280\n",
      "[Epoch 72] Loss: 2.9242\n",
      "[Epoch 73] Loss: 2.7544\n",
      "[Epoch 74] Loss: 2.5926\n",
      "[Epoch 75] Loss: 2.7874\n",
      "[Epoch 76] Loss: 1.9302\n",
      "[Epoch 77] Loss: 1.9490\n",
      "[Epoch 78] Loss: 1.8455\n",
      "[Epoch 79] Loss: 1.4136\n",
      "[Epoch 80] Loss: 1.0572\n",
      "[Epoch 81] Loss: 0.9111\n",
      "[Epoch 82] Loss: 0.7407\n",
      "[Epoch 83] Loss: 0.5461\n",
      "[Epoch 84] Loss: 0.5548\n",
      "[Epoch 85] Loss: 0.5951\n",
      "[Epoch 86] Loss: 0.8834\n",
      "[Epoch 87] Loss: 1.2387\n",
      "[Epoch 88] Loss: 0.4100\n",
      "[Epoch 89] Loss: 0.6958\n",
      "[Epoch 90] Loss: 0.5670\n",
      "[Epoch 91] Loss: 0.2633\n",
      "[Epoch 92] Loss: 0.3274\n",
      "[Epoch 93] Loss: 0.2800\n",
      "[Epoch 94] Loss: 0.2241\n",
      "[Epoch 95] Loss: 0.1716\n",
      "[Epoch 96] Loss: 0.1425\n",
      "[Epoch 97] Loss: 0.1360\n",
      "[Epoch 98] Loss: 0.1218\n",
      "[Epoch 99] Loss: 0.1067\n",
      "[Epoch 100] Loss: 0.1180\n",
      "[Epoch 101] Loss: 0.1072\n",
      "[Epoch 102] Loss: 0.1000\n",
      "[Epoch 103] Loss: 0.0972\n",
      "[Epoch 104] Loss: 0.0963\n",
      "[Epoch 105] Loss: 0.0825\n",
      "[Epoch 106] Loss: 0.0849\n",
      "[Epoch 107] Loss: 0.0734\n",
      "[Epoch 108] Loss: 0.0726\n",
      "[Epoch 109] Loss: 0.0691\n",
      "[Epoch 110] Loss: 0.0655\n",
      "[Epoch 111] Loss: 0.0608\n",
      "[Epoch 112] Loss: 0.0601\n",
      "[Epoch 113] Loss: 0.0579\n",
      "[Epoch 114] Loss: 0.0570\n",
      "[Epoch 115] Loss: 0.0565\n",
      "[Epoch 116] Loss: 0.0538\n",
      "[Epoch 117] Loss: 0.0495\n",
      "[Epoch 118] Loss: 0.0478\n",
      "[Epoch 119] Loss: 0.0473\n",
      "[Epoch 120] Loss: 0.0466\n",
      "[Epoch 121] Loss: 0.0449\n",
      "[Epoch 122] Loss: 0.0469\n",
      "[Epoch 123] Loss: 0.0436\n",
      "[Epoch 124] Loss: 0.0418\n",
      "[Epoch 125] Loss: 0.0427\n",
      "[Epoch 126] Loss: 0.0365\n",
      "[Epoch 127] Loss: 0.0388\n",
      "[Epoch 128] Loss: 0.0369\n",
      "[Epoch 129] Loss: 0.0353\n",
      "[Epoch 130] Loss: 0.0356\n",
      "[Epoch 131] Loss: 0.0330\n",
      "[Epoch 132] Loss: 0.0359\n",
      "[Epoch 133] Loss: 0.0387\n",
      "[Epoch 134] Loss: 0.0321\n",
      "[Epoch 135] Loss: 0.0303\n",
      "[Epoch 136] Loss: 0.0305\n",
      "[Epoch 137] Loss: 0.0293\n",
      "[Epoch 138] Loss: 0.0308\n",
      "[Epoch 139] Loss: 0.0280\n",
      "[Epoch 140] Loss: 0.0305\n",
      "[Epoch 141] Loss: 0.0266\n",
      "[Epoch 142] Loss: 0.0285\n",
      "[Epoch 143] Loss: 0.0333\n",
      "[Epoch 144] Loss: 0.0269\n",
      "[Epoch 145] Loss: 0.0256\n",
      "[Epoch 146] Loss: 0.0228\n",
      "[Epoch 147] Loss: 0.0278\n",
      "[Epoch 148] Loss: 0.0235\n",
      "[Epoch 149] Loss: 0.0236\n",
      "[Epoch 150] Loss: 0.0234\n",
      "[Epoch 151] Loss: 0.0216\n",
      "[Epoch 152] Loss: 0.0242\n",
      "[Epoch 153] Loss: 0.0226\n",
      "[Epoch 154] Loss: 0.0194\n",
      "[Epoch 155] Loss: 0.0200\n",
      "[Epoch 156] Loss: 0.0191\n",
      "[Epoch 157] Loss: 0.0191\n",
      "[Epoch 158] Loss: 0.0186\n",
      "[Epoch 159] Loss: 0.0184\n",
      "[Epoch 160] Loss: 0.0180\n",
      "[Epoch 161] Loss: 0.0172\n",
      "[Epoch 162] Loss: 0.0174\n",
      "[Epoch 163] Loss: 0.0161\n",
      "[Epoch 164] Loss: 0.0167\n",
      "[Epoch 165] Loss: 0.0161\n",
      "[Epoch 166] Loss: 0.0163\n",
      "[Epoch 167] Loss: 0.0156\n",
      "[Epoch 168] Loss: 0.0156\n",
      "[Epoch 169] Loss: 0.0168\n",
      "[Epoch 170] Loss: 0.0153\n",
      "[Epoch 171] Loss: 0.0149\n",
      "[Epoch 172] Loss: 0.0152\n",
      "[Epoch 173] Loss: 0.0149\n",
      "[Epoch 174] Loss: 0.0136\n",
      "[Epoch 175] Loss: 0.0135\n",
      "[Epoch 176] Loss: 0.0177\n",
      "[Epoch 177] Loss: 0.0149\n",
      "[Epoch 178] Loss: 0.0129\n",
      "[Epoch 179] Loss: 0.0149\n",
      "[Epoch 180] Loss: 0.0151\n",
      "[Epoch 181] Loss: 0.0165\n",
      "[Epoch 182] Loss: 0.0119\n",
      "[Epoch 183] Loss: 0.0119\n",
      "[Epoch 184] Loss: 0.0121\n",
      "[Epoch 185] Loss: 0.0156\n",
      "[Epoch 186] Loss: 0.0134\n",
      "[Epoch 187] Loss: 0.0123\n",
      "[Epoch 188] Loss: 0.0115\n",
      "[Epoch 189] Loss: 0.0113\n",
      "[Epoch 190] Loss: 0.0111\n",
      "[Epoch 191] Loss: 0.0135\n",
      "[Epoch 192] Loss: 0.0112\n",
      "[Epoch 193] Loss: 0.0111\n",
      "[Epoch 194] Loss: 0.0101\n",
      "[Epoch 195] Loss: 0.0115\n",
      "[Epoch 196] Loss: 0.0107\n",
      "[Epoch 197] Loss: 0.0098\n",
      "[Epoch 198] Loss: 0.0113\n",
      "[Epoch 199] Loss: 0.0098\n",
      "[Epoch 200] Loss: 0.0108\n"
     ]
    }
   ],
   "source": [
    "NUM_EPOCHS = 200\n",
    "\n",
    "# create the network.\n",
    "net = MLP(nInput, nOutput, nHidden, act_fn)\n",
    "\n",
    "# create the optimizer.\n",
    "optimizer = Adam(net.parameters(), lr=0.1)\n",
    "\n",
    "best_accuracy = 0\n",
    "for epoch_idx in range(NUM_EPOCHS):\n",
    "    loss = train(net, optimizer, train_dataloader, epoch_idx)\n",
    "    print('[Epoch %02d] Loss: %.4f' % (epoch_idx + 1, loss))"
   ]
  },
  {
   "cell_type": "markdown",
   "metadata": {},
   "source": [
    "Again plot your result. You should see that the decision boundary can clearly separate the point clouds.\n"
   ]
  },
  {
   "cell_type": "code",
   "execution_count": 70,
   "metadata": {},
   "outputs": [
    {
     "data": {
      "image/png": "[encoded data removed]",
      "text/plain": [
       "<Figure size 640x480 with 1 Axes>"
      ]
     },
     "metadata": {},
     "output_type": "display_data"
    },
    {
     "data": {
      "text/plain": [
       "<Figure size 640x480 with 0 Axes>"
      ]
     },
     "metadata": {},
     "output_type": "display_data"
    }
   ],
   "source": [
    "p = np.linspace(-0.5, 0.5, 500)\n",
    "x_plot, y_plot = np.meshgrid(p, p)\n",
    "X_plot = np.stack((x_plot, y_plot), axis=2).reshape(-1, 2)\n",
    "X_plot = torch.from_numpy(X_plot).float()\n",
    "output = net(X_plot)\n",
    "output = output.detach().numpy()\n",
    "output = output.reshape(x_plot.shape[0], x_plot.shape[1])\n",
    "\n",
    "plt.contour(x_plot, y_plot, output, [0.5],\n",
    "                  colors=('k',),\n",
    "                  linewidths=(3,))\n",
    "plot(X0, X1)"
   ]
  },
  {
   "cell_type": "markdown",
   "metadata": {},
   "source": [
    "When you are done, move forward to `image_classification.ipynb`."
   ]
  },
  {
   "cell_type": "markdown",
   "metadata": {},
   "source": []
  }
 ],
 "metadata": {
  "kernelspec": {
   "display_name": "Python 3 (ipykernel)",
   "language": "python",
   "name": "python3"
  },
  "language_info": {
   "codemirror_mode": {
    "name": "ipython",
    "version": 3
   },
   "file_extension": ".py",
   "mimetype": "text/x-python",
   "name": "python",
   "nbconvert_exporter": "python",
   "pygments_lexer": "ipython3",
   "version": "3.11.2"
  },
  "vscode": {
   "interpreter": {
    "hash": "d268b61a0efacafa8645774cb6d0204c9f01d7563ef03f7672146d044e8f345c"
   }
  }
 },
 "nbformat": 4,
 "nbformat_minor": 4
}
